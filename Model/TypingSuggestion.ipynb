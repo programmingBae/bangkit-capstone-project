{
  "nbformat": 4,
  "nbformat_minor": 0,
  "metadata": {
    "colab": {
      "name": "TypingSuggestion.ipynb",
      "provenance": [],
      "collapsed_sections": [],
      "authorship_tag": "ABX9TyMbMdLbo+S8BtNVvlcaBRjO",
      "include_colab_link": true
    },
    "kernelspec": {
      "name": "python3",
      "display_name": "Python 3"
    },
    "language_info": {
      "name": "python"
    }
  },
  "cells": [
    {
      "cell_type": "markdown",
      "metadata": {
        "id": "view-in-github",
        "colab_type": "text"
      },
      "source": [
        "<a href=\"https://colab.research.google.com/github/programmingBae/bangkit-capstone-project/blob/main/Model/TypingSuggestion.ipynb\" target=\"_parent\"><img src=\"https://colab.research.google.com/assets/colab-badge.svg\" alt=\"Open In Colab\"/></a>"
      ]
    },
    {
      "cell_type": "code",
      "execution_count": null,
      "metadata": {
        "colab": {
          "base_uri": "https://localhost:8080/"
        },
        "id": "2z6n1Gw4EU5s",
        "outputId": "5dad019a-cc28-4da9-b54d-4f4fba064624"
      },
      "outputs": [
        {
          "output_type": "stream",
          "name": "stdout",
          "text": [
            "734\n",
            "251\n"
          ]
        }
      ],
      "source": [
        "import re\n",
        "\n",
        "data = open(\"./sample_data/data.md\").read()\n",
        "\n",
        "\n",
        "new_data = re.sub(r'[#]+', '', data)\n",
        "\n",
        "\n",
        "corpus = new_data.lower().split(\"\\n\")\n",
        "print(len(corpus))\n",
        "unused = [\" \", \"\", \"----------\"]\n",
        "\n",
        "corpus = [x for x in corpus if x not in unused]\n",
        "print(len(corpus))\n",
        "\n",
        "# # Preview the result\n",
        "# textfile = open(\"./sample_data/a_file.txt\", \"w\")\n",
        "# for element in corpus:\n",
        "#     textfile.write(element + \"\\n\")\n",
        "# textfile.close()"
      ]
    },
    {
      "cell_type": "code",
      "source": [
        "import tensorflow as tf\n",
        "import numpy as np \n",
        "\n",
        "from tensorflow.keras.preprocessing.sequence import pad_sequences\n",
        "from tensorflow.keras.layers import Embedding, LSTM, Dense, Bidirectional\n",
        "from tensorflow.keras.preprocessing.text import Tokenizer\n",
        "from tensorflow.keras.models import Sequential\n",
        "from tensorflow.keras.optimizers import Adam"
      ],
      "metadata": {
        "id": "gFygr-NwVtsj"
      },
      "execution_count": null,
      "outputs": []
    },
    {
      "cell_type": "code",
      "source": [
        "# Initialize the Tokenizer class\n",
        "tokenizer = Tokenizer()\n",
        "\n",
        "# Generate the word index dictionary\n",
        "tokenizer.fit_on_texts(corpus)\n",
        "\n",
        "# Define the total words. You add 1 for the index `0` which is just the padding token.\n",
        "total_words = len(tokenizer.word_index) + 1\n",
        "print(tokenizer.word_index)\n",
        "print(f'word index dictionary: {tokenizer.word_index}')\n",
        "print(f'total words: {total_words}')\n",
        "print(tf.__version__)"
      ],
      "metadata": {
        "colab": {
          "base_uri": "https://localhost:8080/"
        },
        "id": "z9w6JtIjVvqg",
        "outputId": "67ed9936-51fd-4bb0-da04-a8aa903f41f8"
      },
      "execution_count": null,
      "outputs": [
        {
          "output_type": "stream",
          "name": "stdout",
          "text": [
            "{'yang': 1, 'pada': 2, 'untuk': 3, 'tidak': 4, 'bisa': 5, 'kamu': 6, 'https': 7, 'sebaiknya': 8, 'menggunakan': 9, 'dengan': 10, 'com': 11, 'di': 12, 'br': 13, 'android': 14, 'www': 15, 'dicoding': 16, 'academies': 17, 'ini': 18, 'dan': 19, 'fungsi': 20, 'tutorials': 21, 'ketika': 22, 'kembali': 23, 'dalam': 24, 'dari': 25, 'jika': 26, 'seperti': 27, 'halaman': 28, 'digunakan': 29, 'sebuah': 30, 'anda': 31, 'test': 32, 'aplikasi': 33, '129': 34, 'ada': 35, 'dapat': 36, 'atau': 37, 'layout': 38, 'viewmodel': 39, 'submission': 40, 'agar': 41, 'hindari': 42, 'karena': 43, 'akan': 44, 'kode': 45, 'terdapat': 46, 'berikut': 47, 'pengujian': 48, 'project': 49, 'nilai': 50, 'val': 51, 'sudah': 52, 'kotlin': 53, 'data': 54, 'hanya': 55, 'livedata': 56, 'kelas': 57, 'lebih': 58, 'melakukan': 59, 'variable': 60, 'seharusnya': 61, 'reference': 62, 'view': 63, 'silakan': 64, 'gunakan': 65, 'sesuai': 66, 'class': 67, 'perlu': 68, 'case': 69, 'code': 70, 'ke': 71, 'sebagai': 72, 'belum': 73, 'login': 74, 'menguji': 75, 'file': 76, 'memanfaatkan': 77, 'saat': 78, 'string': 79, 'org': 80, 'menyebabkan': 81, 'masih': 82, 'penggunaan': 83, 'tersebut': 84, 'pelajari': 85, 'modul': 86, 'observer': 87, 'berhasil': 88, 'fitur': 89, 'pernah': 90, 'menjadi': 91, 'proses': 92, 'contoh': 93, 'juga': 94, 'value': 95, 'courses': 96, 'selalu': 97, 'tambahkan': 98, 'memiliki': 99, 'repository': 100, 'attribute': 101, 'content': 102, 'null': 103, 'from': 104, 'langsung': 105, 'verify': 106, '4469': 107, 'getcourses': 108, 'studio': 109, 'mendapatkan': 110, 'zip': 111, '14': 112, 'beberapa': 113, 'dihapus': 114, 'package': 115, \"'\": 116, 'penulisan': 117, 'back': 118, 'list': 119, 'activity': 120, 'penamaan': 121, 'finish': 122, 'perubahan': 123, 'dummycourses': 124, 'courseentities': 125, 'to': 126, 'supaya': 127, 'dilakukan': 128, 'tampilan': 129, 'harus': 130, 'developer': 131, 'latihan': 132, 'imageview': 133, 'xml': 134, 'teks': 135, 'fragment': 136, 'object': 137, 'deprecated': 138, 'kotlinlang': 139, 'docs': 140, 'fun': 141, 'setelah': 142, 'namun': 143, 'keluar': 144, 'catatan': 145, 'pastikan': 146, 'apakah': 147, 'instrumentation': 148, 'academyrepository': 149, 'getallcourses': 150, 'berkas': 151, 'review': 152, 'versi': 153, 'terbaru': 154, 'build': 155, 'import': 156, 'error': 157, 'menampilkan': 158, 'tools': 159, 'menerapkan': 160, 'secara': 161, 'jetpack': 162, 'gagal': 163, 'hal': 164, 'ditampilkan': 165, 'movie': 166, 'tanda': 167, 'item': 168, 'name': 169, 'daripada': 170, 'format': 171, 'lagi': 172, 'intent': 173, 'tombol': 174, 'ditekan': 175, 'upload': 176, 'silahkan': 177, 'dipanggil': 178, 'mendapat': 179, 'kirimkan': 180, '258': 181, 'ukuran': 182, 'baik': 183, 'hasil': 184, 'disarankan': 185, 'gradle': 186, 'perhatikan': 187, 'resources': 188, 'resource': 189, 'adalah': 190, '1': 191, 'ingin': 192, 'gambar': 193, 'github': 194, 'suatu': 195, 'pro': 196, 'token': 197, 'api': 198, 'buildconfigfield': 199, 'properti': 200, 'image': 201, 'diberikan': 202, 'material': 203, 'favorite': 204, 'tanpa': 205, 'menambahkan': 206, 'followers': 207, 'app': 208, 'jangan': 209, 'periksa': 210, 'strings': 211, 'karakter': 212, 'recyclerview': 213, 'height': 214, 'text': 215, 'menuliskan': 216, 'wrap': 217, 'observe': 218, 'satu': 219, 'url': 220, 'calls': 221, 'html': 222, 'berada': 223, 'parameter': 224, 'connectivitymanager': 225, 'extensions': 226, 'this': 227, '2': 228, 'mempelajari': 229, '352': 230, '22889': 231, 'bug': 232, 'register': 233, 'custom': 234, 'testing': 235, 'berbeda': 236, 'penerapan': 237, 'tepat': 238, 'verifikasi': 239, 'mutablelivedata': 240, 'when': 241, 'thenreturn': 242, 'approve': 243, 'assertion': 244, 'comment': 245, 'export': 246, 'size': 247, 'menghapus': 248, 'menulis': 249, 'rapi': 250, 'itu': 251, 'method': 252, 'ataupun': 253, 'tuliskan': 254, 'memory': 255, 'glide': 256, 'io': 257, 'gunakanlah': 258, \"'string'\": 259, 'mempunyai': 260, 'memerlukan': 261, 'terlalu': 262, 'warning': 263, 'proyek': 264, 'referensi': 265, 'komponen': 266, 'nested': 267, 'detail': 268, 'pencarian': 269, 'utama': 270, 'searchview': 271, 'widget': 272, 'preference': 273, 'scaletype': 274, 'misal': 275, 's': 276, 'namespace': 277, 'editor': 278, 'placeholder': 279, 'kita': 280, 'width': 281, 'match': 282, 'parent': 283, 'textview': 284, 'left': 285, 'right': 286, 'setiap': 287, 'mengganti': 288, 'dibuat': 289, 'scope': 290, 'it': 291, 'ya': 292, 'dijadikan': 293, 'statement': 294, 'if': 295, 'apply': 296, 'didalam': 297, 'menggantinya': 298, 'bernilai': 299, 'implementasi': 300, 'safe': 301, 'non': 302, 'operator': 303, 'semua': 304, 'property': 305, 'position': 306, 'type': 307, 'memanggil': 308, 'return': 309, 'companion': 310, 'instance': 311, 'context': 312, 'tapi': 313, 'const': 314, 'maven': 315, 'story': 316, 'email': 317, 'sebelumnya': 318, 'inputtype': 319, '4497': 320, 'unit': 321, '4498': 322, 'asynchronous': 323, 'ketentuan': 324, 'objek': 325, 'valid': 326, 'konteks': 327, 'datadummy': 328, 'generatedummycourses': 329, 'courseentity': 330, 'atas': 331, 'bukan': 332, 'cermati': 333, 'klik': 334, 'kecil': 335, 'ditulis': 336, 'apa': 337, 'mempengaruhi': 338, '→': 339, 'bersih': 340, 'reformat': 341, 'analyze': 342, 'plugin': 343, 'best': 344, 'picasso': 345, 'cobalah': 346, 'sama': 347, 'kedepannya': 348, '3': 349, 'library': 350, 'x': 351, 'lainnya': 352, 'transaksi': 353, 'network': 354, 'database': 355, 'sharedpreferences': 356, 'mempelajarinya': 357, 'belajar': 358, 'menyematkan': 359, 'constructor': 360, 'sehingga': 361, 'net': 362, 'solusinya': 363, 'folder': 364, 'maupun': 365, 'disini': 366, 'design': 367, 'tiga': 368, 'tablayout': 369, 'informasi': 370, 'konsisten': 371, 'sedang': 372, 'constraintlayout': 373, 'menyusun': 374, 'experience': 375, 'pengguna': 376, 'toolbar': 377, 'diluar': 378, 'button': 379, 'user': 380, 'following': 381, 'mempermudah': 382, 'navigasi': 383, 'search': 384, 'membuat': 385, 'setting': 386, 'dipelajari': 387, 'terlihat': 388, 'lihat': 389, 'with': 390, 'kalau': 391, 'hardcoded': 392, 'lupa': 393, 'konten': 394, 'atribut': 395, 'nya': 396, 'ditambahkan': 397, 'listitem': 398, 'textsize': 399, 'pertimbangkan': 400, 'support': 401, 'terhadap': 402, 'rtl': 403, 'layouts': 404, 'false': 405, 'cukup': 406, 'saja': 407, 'dituliskan': 408, 'body': 409, 'background': 410, 'masing': 411, 'windowbackground': 412, 'scheme': 413, 'function': 414, 'terjadi': 415, 'diganti': 416, 'viewlifecycleowner': 417, 'event': 418, 'inisialisasi': 419, 'onviewcreated': 420, 'lain': 421, 'private': 422, 'ekspresi': 423, 'recycle': 424, 'simpledateformat': 425, 'locale': 426, 'getcolor': 427, 'pengecekan': 428, 'kondisi': 429, 'konstan': 430, 'tetap': 431, 'diperlukan': 432, 'parcelize': 433, 'bertipe': 434, 'tentang': 435, 'safety': 436, '55': 437, '1538': 438, '1573': 439, 'dideklarasikan': 440, 'akhir': 441, 'double': 442, 'bang': 443, 'maka': 444, 'access': 445, 'syntax': 446, 'getter': 447, 'setter': 448, 'casting': 449, 'redundansi': 450, 'kata': 451, 'terdeteksi': 452, 'diletakkan': 453, 'bawah': 454, 'konvensi': 455, 'coding': 456, 'conventions': 457, 'htmlclass': 458, 'cara': 459, 'l': 460, 'bersifat': 461, 'getnetworkcapabilities': 462, 'networkcapabilities': 463, 'boolean': 464, 'netactive': 465, 'load': 466, '500': 467, 'style': 468, 'guide': 469, 'link': 470, 'argument': 471, 'table': 472, 'follower': 473, 'telah': 474, 'synthetics': 475, 'binding': 476, 'jcenter': 477, 'shutdown': 478, 'central': 479, 'waktu': 480, '165': 481, 'discussions': 482, '145287': 483, 'common': 484, 'tory': 485, 'masuk': 486, 'logout': 487, 'sesi': 488, 'membuka': 489, 'mengecek': 490, 'kriteria': 491, 'pemeriksaan': 492, 'validasi': 493, 'jumlah': 494, 'pertama': 495, 'pesan': 496, 'kemudian': 497, 'hapus': 498, 'muncul': 499, 'melihat': 500, 'wajib': 501, 'diperiksa': 502, 'academy': 503, 'delay': 504, 'memuat': 505, '4440': 506, 'membutuhkan': 507, 'sebelum': 508, 'idle': 509, '4470': 510, 'dinamis': 511, 'pagination': 512, 'mengimplementasikan': 513, 'mengikuti': 514, '4489': 515, 'baca': 516, 'room': 517, 'aku': 518, 'assertnotnull': 519, 'assertequals': 520, '5': 521, 'observeforever': 522, 'onchanged': 523, 'reject': 524, 'assertnull': 525, 'getfilm': 526, 'film': 527, 'moviedummy': 528, 'mockito': 529, 'boilerplate': 530, 'merupakan': 531, 'manage': 532, 'ide': 533, 'settings': 534, 'sini': 535, 'extract': 536, 'platform': 537, 'berpotensi': 538, 'komprehensif': 539, 'compilesdkversion': 540, 'buildtoolsversion': 541, 'dependencies': 542, 'tetapi': 543, 'apk': 544, 'nantinya': 545, 'refactor': 546, 'remove': 547, 'unused': 548, 'enak': 549, 'dilihat': 550, 'optimized': 551, 'cleanup': 552, 'melakukannya': 553, 'cepat': 554, 'practice': 555, '4': 556, '32': 557, 'update': 558, 'level': 559, 'root': 560, 'menghindari': 561, 'out': 562, 'of': 563, 'kehabisan': 564, 'bumptech': 565, 'square': 566, 'mengelompokkan': 567, 'tanggung': 568, 'jawab': 569, 'dikembangkan': 570, 'struktur': 571, 'rapih': 572, 'memudahkan': 573, 'maintenances': 574, '30': 575, '0': 576, 'tersedia': 577, 'terbarunya': 578, 'diupdate': 579, 'beserta': 580, 'mencoba': 581, 'pattern': 582, 'request': 583, 'terpusat': 584, 'lengkap': 585, 'alasan': 586, 'keamaan': 587, 'kredensial': 588, 'dipindahkan': 589, 'defaultconfig': 590, \"'”b650046bf640e7bf7054093854b8d02a\": 591, 'mengaksesnya': 592, 'buildconfig': 593, 'apikey': 594, 'b650046bf640e7bf7054093854b8d02a': 595, 'baseimageurl': 596, 'tmdb': 597, 't': 598, 'p': 599, 'w500': 600, 'baseurl': 601, 'themoviedb': 602, 'primary': 603, 'parenthese': 604, 'disesuaikan': 605, 'lokasi': 606, 'besar': 607, 'tab': 608, 'membaca': 609, 'arsip': 610, 'dicodingacademy': 611, 'blob': 612, 'core': 613, 'windows': 614, '20200806094645a1f596e7c8d1203e6747f44e1fd1a3be': 615, 'png': 616, 'tentunya': 617, 'mengikutsertakan': 618, 'git': 619, 'mengirimkan': 620, 'tingkatkan': 621, 'kualitas': 622, 'memperhatikan': 623, 'saran': 624, 'selama': 625, 'pengembangan': 626, 'memastikan': 627, 'buat': 628, 'terhindar': 629, 'segala': 630, 'bentuk': 631, 'inspeksi': 632, 'mudah': 633, 'melalui': 634, 'inspect': 635, 'ui': 636, 'mulailah': 637, 'konsep': 638, 'mengembangkan': 639, 'mengunjungi': 640, 'practices': 641, 'bottomnavigationview': 642, 'menu': 643, 'berjumlah': 644, 'minimal': 645, 'kurang': 646, 'progressbar': 647, 'swiperefreshlayout': 648, 'indikator': 649, 'loading': 650, 'kompleks': 651, 'collapsingtoolbarlayout': 652, 'dibuatkan': 653, 'tersendiri': 654, 'menggangu': 655, 'behaviour': 656, 'menggabungkan': 657, 'appbarlayout': 658, 'elevation': 659, 'dihilangkan': 660, 'menambah': 661, 'daftar': 662, 'ditempatkan': 663, 'tampilkan': 664, 'ditemukan': 665, 'antar': 666, 'sekaligus': 667, 'meningkatkan': 668, 'tautan': 669, 'preferencescreen': 670, 'materi': 671, 'codelab': 672, '3080': 673, 'menghasilkan': 674, 'jelas': 675, 'terpotong': 676, 'lengkapnya': 677, 'medium': 678, 'mobile': 679, 'development': 680, 'publication': 681, 'fully': 682, 'illustrated': 683, 'adjustviewbound': 684, '1ce094dee777': 685, 'diberi': 686, 'kosong': 687, 'lembar': 688, 'putih': 689, 'keterangan': 690, 'datanya': 691, 'cocok': 692, 'dll': 693, 'petik': 694, 'tunggal': 695, '’': 696, 'spesial': 697, 'backslash': 698, 'hello': 699, 'world’': 700, 'memindahkannya': 701, 'kedalam': 702, 'attribut': 703, 'contentdescription': 704, 'mendefinisikan': 705, 'menjelaskan': 706, 'singkat': 707, 'terutama': 708, 'aksesibilitas': 709, 'representasi': 710, 'tekstual': 711, 'menyediakannya': 712, 'berguna': 713, 'androidx': 714, 'preview': 715, 'hardcode': 716, 'lorem': 717, 'ipsum': 718, 'scale': 719, 'independent': 720, 'pixels': 721, 'sp': 722, 'mengatur': 723, '20sp': 724, '12sp': 725, 'child': 726, 'scrollview': 727, 'mulai': 728, 'start': 729, 'end': 730, 'dibandingkan': 731, 'mendukung': 732, 'i16n': 733, 'simetris': 734, 'menetapkan': 735, 'paddingleft': 736, 'tetapkan': 737, 'paddingright': 738, 'marginleft': 739, 'marginstart': 740, 'marginright': 741, 'marginend': 742, 'fitxy': 743, 'proprosi': 744, 'ratio': 745, 'aslinya': 746, 'diterjemahkan': 747, 'translatable': 748, 'rootview': 749, 'berulang': 750, 'childview': 751, 'tag': 752, 'detailactivity': 753, 'themes': 754, 'color': 755, 'blue': 756, 'fragmentcontainerview': 757, 'dikhususkan': 758, 'container': 759, 'ellipsis': 760, 'character': 761, '“…”': 762, 'ifroom': 763, 'always': 764, 'showasaction': 765, 'mana': 766, 'mengembalikan': 767, 'renaming': 768, 'miskonsepsi': 769, 'dibaca': 770, 'serta': 771, 'terletak': 772, 'outer': 773, 'otomatis': 774, 'inner': 775, 'penerapannya': 776, 'misalnya': 777, 'getcontentifnothandled': 778, 'let': 779, 'loggedin': 780, 'oncreateview': 781, 'inflate': 782, 'onactivitycreated': 783, 'berstatus': 784, 'camelcase': 785, 'haruslah': 786, 'mendeskripsikan': 787, 'action': 788, 'dicapai': 789, 'dieksekusi': 790, 'general': 791, 'menimbulkan': 792, 'pemahaman': 793, 'lowercase': 794, 'uppercase': 795, 'letter': 796, 'switch': 797, 'local': 798, 'endpoint': 799, 'tipe': 800, 'http': 801, 'device': 802, 'pie': 803, 'commit': 804, 'memblok': 805, 'penyimpanan': 806, 'persisten': 807, 'sesegera': 808, 'mungkin': 809, 'sedangkan': 810, 'menanganinya': 811, 'obtaintypedarray': 812, 'disertai': 813, 'eeee': 814, 'mmm': 815, 'dd': 816, 'yyyy': 817, 'getdefault': 818, 'contextcompat': 819, 'berlebihan': 820, 'menghapusnya': 821, 'parcelable': 822, 'hl': 823, 'id': 824, 'ubah': 825, 'dot': 826, 'manfaatkanlah': 827, 'indexing': 828, 'element': 829, 'array': 830, 'dimodifikasi': 831, 'curly': 832, 'braces': 833, 'diingat': 834, 'bahwa': 835, 'semicolon': 836, 'disetiap': 837, 'memaksa': 838, 'ternyata': 839, 'v': 840, 'a': 841, 'riable': 842, 'npe': 843, 'biarkan': 844, 'satupun': 845, 'tersisa': 846, 'memungkinkan': 847, 'mengakses': 848, 'java': 849, 'seluruh': 850, 'ubahlah': 851, 'menjadikan': 852, 'final': 853, 'holder': 854, 'getadapterposition': 855, 'posisi': 856, 'sekarang': 857, 'explicit': 858, 'cursor': 859, 'close': 860, 'turunan': 861, 'super': 862, 'fungsinya': 863, 'manfaatkan': 864, 'void': 865, 'diakhiri': 866, 'moviesdetail': 867, 'moviesdetailactivity': 868, 'bahasa': 869, 'inggris': 870, 'convention': 871, 'berlaku': 872, 'typo': 873, 'oleh': 874, 'paling': 875, 'menekan': 876, 'ctrl': 877, 'alt': 878, 'command': 879, 'options': 880, 'namanya': 881, 'dirubah': 882, 'underscore': 883, 'contohnya': 884, 'lsview': 885, 'setonitemclicklistener': 886, 'showselecteduser': 887, 'users': 888, 'all': 889, 'caps': 890, 'snake': 891, 'suppress': 892, 'networkinfo': 893, '29': 894, 'retrieve': 895, 'check': 896, 'state': 897, 'on': 898, 'off': 899, 'isconnected': 900, 'mcontext': 901, 'getsystemservice': 902, 'connectivity': 903, 'service': 904, 'as': 905, 'activenetwork': 906, 'hascapability': 907, 'capability': 908, 'internet': 909, 'bawaan': 910, 'bantuan': 911, 'new': 912, 'harap': 913, 'loadimage': 914, 'requestoptions': 915, 'override': 916, 'centercrop': 917, 'into': 918, 'menggunakannya': 919, 'berasal': 920, 'static': 921, 'fields': 922, 'leaks': 923, 'getparcelableextra': 924, 'arguments': 925, 'nilainya': 926, 'status': 927, 'nameid': 928, 'imageid': 929, 'standar': 930, 'startactivity': 931, 'menhancurkan': 932, 'diitekan': 933, 'splash': 934, 'screen': 935, 'mengatasinya': 936, 'handler': 937, 'looper': 938, 'getmainlooper': 939, 'notifikasi': 940, 'pendingintent': 941, 'mengenal': 942, 'task': 943, 'stack': 944, '209': 945, 'terupdate': 946, 'penambahan': 947, 'penghapusan': 948, 'provider': 949, 'consumer': 950, '3278': 951, 'variabel': 952, 'berisi': 953, 'kurung': 954, 'template': 955, 'create': 956, 'd': 957, 'memakainya': 958, 'detailfollowers': 959, 'getstring': 960, 'r': 961, 'memanggilnya': 962, 'diaskses': 963, 'deklrasi': 964, 'notasi': 965, 'typesafe': 966, 'pembacaan': 967, 'alangkah': 968, 'baiknya': 969, 'meng': 970, 'viewbinding': 971, 'migrate': 972, 'topic': 973, 'libraries': 974, 'migration': 975, 'dinyatakan': 976, 'blog': 977, 'depedencies': 978, 'pakai': 979, 'concise': 980, 'expressive': 981, 'argumen': 982, 'terakhir': 983, 'menganut': 984, 'lambda': 985, 'expression': 986, 'dikeluarkan': 987, 'moviedetail': 988, 'nullable': 989, 'field': 990, 'operasi': 991, 'nullpointerexception': 992, 'sewaktu': 993, 'fragmenttvshowsbinding': 994, 'detailnya': 995, 'diskusi': 996, 'intermediate': 997, 'tersimpan': 998, 'terbaca': 999, 'mekanisme': 1000, 'salah': 1001, 'autentikasi': 1002, 'untu': 1003, 'apapun': 1004, 'jadi': 1005, 'menyimpan': 1006, 'memeriksa': 1007, 'kali': 1008, 'terlebih': 1009, 'dahulu': 1010, 'apabila': 1011, 'response': 1012, 'errorbody': 1013, 'parsing': 1014, 'manual': 1015, 'gson': 1016, 'ganti': 1017, 'sebenarnya': 1018, 'emailedittext': 1019, 'digabung': 1020, 'set': 1021, 'edittext': 1022, 'password': 1023, 'biasa': 1024, 'selengkapnya': 1025, 'dokumentasi': 1026, 'dialog': 1027, 'sukses': 1028, 'akun': 1029, 'maps': 1030, 'zoom': 1031, 'fixed': 1032, 'latlngbound': 1033, 'marker': 1034, 'architecture': 1035, 'component': 1036, '4495': 1037, 'androidtest': 1038, 'diperuntukkan': 1039, 'xxx': 1040, 'dikarenakan': 1041, 'expected': 1042, 'actual': 1043, '“': 1044, '‘': 1045, 'diperbaiki': 1046, 'skenario': 1047, 'kolom': 1048, 'mengumpulkan': 1049, 'tugas': 1050, 'sekenario': 1051, '4454': 1052, 'idling': 1053, 'selanjutnya': 1054, 'menjaga': 1055, 'dimuat': 1056, 'dibutuhkan': 1057, 'getdata': 1058, 'orientasi': 1059, 'mengenai': 1060, 'lifecycle': 1061, 'menangani': 1062, 'detik': 1063, '4471': 1064, 'dijalankan': 1065, 'diperbolehkan': 1066, 'verifikasinya': 1067, 'diverifikasi': 1068, 'baris': 1069, 'cars': 1070, 'didapatkan': 1071, 'dimana': 1072, 'pasti': 1073, 'berubah': 1074, 'statis': 1075, 'kelola': 1076, '4479': 1077, 'terkadang': 1078, 'bikin': 1079, 'bingung': 1080, 'pas': 1081, 'mau': 1082, 'testingnya': 1083, 'coba': 1084, 'google': 1085, 'sample': 1086, 'temui': 1087, 'disampaikan': 1088, 'dipisah': 1089, 'dua': 1090, 'didapat': 1091, 'kedua': 1092, 'dikembalikan': 1093, 'assertionnya': 1094, 'pengujiannya': 1095, 'movierepository': 1096, 'filmid': 1097, 'mengembalikkan': 1098}\n",
            "word index dictionary: {'yang': 1, 'pada': 2, 'untuk': 3, 'tidak': 4, 'bisa': 5, 'kamu': 6, 'https': 7, 'sebaiknya': 8, 'menggunakan': 9, 'dengan': 10, 'com': 11, 'di': 12, 'br': 13, 'android': 14, 'www': 15, 'dicoding': 16, 'academies': 17, 'ini': 18, 'dan': 19, 'fungsi': 20, 'tutorials': 21, 'ketika': 22, 'kembali': 23, 'dalam': 24, 'dari': 25, 'jika': 26, 'seperti': 27, 'halaman': 28, 'digunakan': 29, 'sebuah': 30, 'anda': 31, 'test': 32, 'aplikasi': 33, '129': 34, 'ada': 35, 'dapat': 36, 'atau': 37, 'layout': 38, 'viewmodel': 39, 'submission': 40, 'agar': 41, 'hindari': 42, 'karena': 43, 'akan': 44, 'kode': 45, 'terdapat': 46, 'berikut': 47, 'pengujian': 48, 'project': 49, 'nilai': 50, 'val': 51, 'sudah': 52, 'kotlin': 53, 'data': 54, 'hanya': 55, 'livedata': 56, 'kelas': 57, 'lebih': 58, 'melakukan': 59, 'variable': 60, 'seharusnya': 61, 'reference': 62, 'view': 63, 'silakan': 64, 'gunakan': 65, 'sesuai': 66, 'class': 67, 'perlu': 68, 'case': 69, 'code': 70, 'ke': 71, 'sebagai': 72, 'belum': 73, 'login': 74, 'menguji': 75, 'file': 76, 'memanfaatkan': 77, 'saat': 78, 'string': 79, 'org': 80, 'menyebabkan': 81, 'masih': 82, 'penggunaan': 83, 'tersebut': 84, 'pelajari': 85, 'modul': 86, 'observer': 87, 'berhasil': 88, 'fitur': 89, 'pernah': 90, 'menjadi': 91, 'proses': 92, 'contoh': 93, 'juga': 94, 'value': 95, 'courses': 96, 'selalu': 97, 'tambahkan': 98, 'memiliki': 99, 'repository': 100, 'attribute': 101, 'content': 102, 'null': 103, 'from': 104, 'langsung': 105, 'verify': 106, '4469': 107, 'getcourses': 108, 'studio': 109, 'mendapatkan': 110, 'zip': 111, '14': 112, 'beberapa': 113, 'dihapus': 114, 'package': 115, \"'\": 116, 'penulisan': 117, 'back': 118, 'list': 119, 'activity': 120, 'penamaan': 121, 'finish': 122, 'perubahan': 123, 'dummycourses': 124, 'courseentities': 125, 'to': 126, 'supaya': 127, 'dilakukan': 128, 'tampilan': 129, 'harus': 130, 'developer': 131, 'latihan': 132, 'imageview': 133, 'xml': 134, 'teks': 135, 'fragment': 136, 'object': 137, 'deprecated': 138, 'kotlinlang': 139, 'docs': 140, 'fun': 141, 'setelah': 142, 'namun': 143, 'keluar': 144, 'catatan': 145, 'pastikan': 146, 'apakah': 147, 'instrumentation': 148, 'academyrepository': 149, 'getallcourses': 150, 'berkas': 151, 'review': 152, 'versi': 153, 'terbaru': 154, 'build': 155, 'import': 156, 'error': 157, 'menampilkan': 158, 'tools': 159, 'menerapkan': 160, 'secara': 161, 'jetpack': 162, 'gagal': 163, 'hal': 164, 'ditampilkan': 165, 'movie': 166, 'tanda': 167, 'item': 168, 'name': 169, 'daripada': 170, 'format': 171, 'lagi': 172, 'intent': 173, 'tombol': 174, 'ditekan': 175, 'upload': 176, 'silahkan': 177, 'dipanggil': 178, 'mendapat': 179, 'kirimkan': 180, '258': 181, 'ukuran': 182, 'baik': 183, 'hasil': 184, 'disarankan': 185, 'gradle': 186, 'perhatikan': 187, 'resources': 188, 'resource': 189, 'adalah': 190, '1': 191, 'ingin': 192, 'gambar': 193, 'github': 194, 'suatu': 195, 'pro': 196, 'token': 197, 'api': 198, 'buildconfigfield': 199, 'properti': 200, 'image': 201, 'diberikan': 202, 'material': 203, 'favorite': 204, 'tanpa': 205, 'menambahkan': 206, 'followers': 207, 'app': 208, 'jangan': 209, 'periksa': 210, 'strings': 211, 'karakter': 212, 'recyclerview': 213, 'height': 214, 'text': 215, 'menuliskan': 216, 'wrap': 217, 'observe': 218, 'satu': 219, 'url': 220, 'calls': 221, 'html': 222, 'berada': 223, 'parameter': 224, 'connectivitymanager': 225, 'extensions': 226, 'this': 227, '2': 228, 'mempelajari': 229, '352': 230, '22889': 231, 'bug': 232, 'register': 233, 'custom': 234, 'testing': 235, 'berbeda': 236, 'penerapan': 237, 'tepat': 238, 'verifikasi': 239, 'mutablelivedata': 240, 'when': 241, 'thenreturn': 242, 'approve': 243, 'assertion': 244, 'comment': 245, 'export': 246, 'size': 247, 'menghapus': 248, 'menulis': 249, 'rapi': 250, 'itu': 251, 'method': 252, 'ataupun': 253, 'tuliskan': 254, 'memory': 255, 'glide': 256, 'io': 257, 'gunakanlah': 258, \"'string'\": 259, 'mempunyai': 260, 'memerlukan': 261, 'terlalu': 262, 'warning': 263, 'proyek': 264, 'referensi': 265, 'komponen': 266, 'nested': 267, 'detail': 268, 'pencarian': 269, 'utama': 270, 'searchview': 271, 'widget': 272, 'preference': 273, 'scaletype': 274, 'misal': 275, 's': 276, 'namespace': 277, 'editor': 278, 'placeholder': 279, 'kita': 280, 'width': 281, 'match': 282, 'parent': 283, 'textview': 284, 'left': 285, 'right': 286, 'setiap': 287, 'mengganti': 288, 'dibuat': 289, 'scope': 290, 'it': 291, 'ya': 292, 'dijadikan': 293, 'statement': 294, 'if': 295, 'apply': 296, 'didalam': 297, 'menggantinya': 298, 'bernilai': 299, 'implementasi': 300, 'safe': 301, 'non': 302, 'operator': 303, 'semua': 304, 'property': 305, 'position': 306, 'type': 307, 'memanggil': 308, 'return': 309, 'companion': 310, 'instance': 311, 'context': 312, 'tapi': 313, 'const': 314, 'maven': 315, 'story': 316, 'email': 317, 'sebelumnya': 318, 'inputtype': 319, '4497': 320, 'unit': 321, '4498': 322, 'asynchronous': 323, 'ketentuan': 324, 'objek': 325, 'valid': 326, 'konteks': 327, 'datadummy': 328, 'generatedummycourses': 329, 'courseentity': 330, 'atas': 331, 'bukan': 332, 'cermati': 333, 'klik': 334, 'kecil': 335, 'ditulis': 336, 'apa': 337, 'mempengaruhi': 338, '→': 339, 'bersih': 340, 'reformat': 341, 'analyze': 342, 'plugin': 343, 'best': 344, 'picasso': 345, 'cobalah': 346, 'sama': 347, 'kedepannya': 348, '3': 349, 'library': 350, 'x': 351, 'lainnya': 352, 'transaksi': 353, 'network': 354, 'database': 355, 'sharedpreferences': 356, 'mempelajarinya': 357, 'belajar': 358, 'menyematkan': 359, 'constructor': 360, 'sehingga': 361, 'net': 362, 'solusinya': 363, 'folder': 364, 'maupun': 365, 'disini': 366, 'design': 367, 'tiga': 368, 'tablayout': 369, 'informasi': 370, 'konsisten': 371, 'sedang': 372, 'constraintlayout': 373, 'menyusun': 374, 'experience': 375, 'pengguna': 376, 'toolbar': 377, 'diluar': 378, 'button': 379, 'user': 380, 'following': 381, 'mempermudah': 382, 'navigasi': 383, 'search': 384, 'membuat': 385, 'setting': 386, 'dipelajari': 387, 'terlihat': 388, 'lihat': 389, 'with': 390, 'kalau': 391, 'hardcoded': 392, 'lupa': 393, 'konten': 394, 'atribut': 395, 'nya': 396, 'ditambahkan': 397, 'listitem': 398, 'textsize': 399, 'pertimbangkan': 400, 'support': 401, 'terhadap': 402, 'rtl': 403, 'layouts': 404, 'false': 405, 'cukup': 406, 'saja': 407, 'dituliskan': 408, 'body': 409, 'background': 410, 'masing': 411, 'windowbackground': 412, 'scheme': 413, 'function': 414, 'terjadi': 415, 'diganti': 416, 'viewlifecycleowner': 417, 'event': 418, 'inisialisasi': 419, 'onviewcreated': 420, 'lain': 421, 'private': 422, 'ekspresi': 423, 'recycle': 424, 'simpledateformat': 425, 'locale': 426, 'getcolor': 427, 'pengecekan': 428, 'kondisi': 429, 'konstan': 430, 'tetap': 431, 'diperlukan': 432, 'parcelize': 433, 'bertipe': 434, 'tentang': 435, 'safety': 436, '55': 437, '1538': 438, '1573': 439, 'dideklarasikan': 440, 'akhir': 441, 'double': 442, 'bang': 443, 'maka': 444, 'access': 445, 'syntax': 446, 'getter': 447, 'setter': 448, 'casting': 449, 'redundansi': 450, 'kata': 451, 'terdeteksi': 452, 'diletakkan': 453, 'bawah': 454, 'konvensi': 455, 'coding': 456, 'conventions': 457, 'htmlclass': 458, 'cara': 459, 'l': 460, 'bersifat': 461, 'getnetworkcapabilities': 462, 'networkcapabilities': 463, 'boolean': 464, 'netactive': 465, 'load': 466, '500': 467, 'style': 468, 'guide': 469, 'link': 470, 'argument': 471, 'table': 472, 'follower': 473, 'telah': 474, 'synthetics': 475, 'binding': 476, 'jcenter': 477, 'shutdown': 478, 'central': 479, 'waktu': 480, '165': 481, 'discussions': 482, '145287': 483, 'common': 484, 'tory': 485, 'masuk': 486, 'logout': 487, 'sesi': 488, 'membuka': 489, 'mengecek': 490, 'kriteria': 491, 'pemeriksaan': 492, 'validasi': 493, 'jumlah': 494, 'pertama': 495, 'pesan': 496, 'kemudian': 497, 'hapus': 498, 'muncul': 499, 'melihat': 500, 'wajib': 501, 'diperiksa': 502, 'academy': 503, 'delay': 504, 'memuat': 505, '4440': 506, 'membutuhkan': 507, 'sebelum': 508, 'idle': 509, '4470': 510, 'dinamis': 511, 'pagination': 512, 'mengimplementasikan': 513, 'mengikuti': 514, '4489': 515, 'baca': 516, 'room': 517, 'aku': 518, 'assertnotnull': 519, 'assertequals': 520, '5': 521, 'observeforever': 522, 'onchanged': 523, 'reject': 524, 'assertnull': 525, 'getfilm': 526, 'film': 527, 'moviedummy': 528, 'mockito': 529, 'boilerplate': 530, 'merupakan': 531, 'manage': 532, 'ide': 533, 'settings': 534, 'sini': 535, 'extract': 536, 'platform': 537, 'berpotensi': 538, 'komprehensif': 539, 'compilesdkversion': 540, 'buildtoolsversion': 541, 'dependencies': 542, 'tetapi': 543, 'apk': 544, 'nantinya': 545, 'refactor': 546, 'remove': 547, 'unused': 548, 'enak': 549, 'dilihat': 550, 'optimized': 551, 'cleanup': 552, 'melakukannya': 553, 'cepat': 554, 'practice': 555, '4': 556, '32': 557, 'update': 558, 'level': 559, 'root': 560, 'menghindari': 561, 'out': 562, 'of': 563, 'kehabisan': 564, 'bumptech': 565, 'square': 566, 'mengelompokkan': 567, 'tanggung': 568, 'jawab': 569, 'dikembangkan': 570, 'struktur': 571, 'rapih': 572, 'memudahkan': 573, 'maintenances': 574, '30': 575, '0': 576, 'tersedia': 577, 'terbarunya': 578, 'diupdate': 579, 'beserta': 580, 'mencoba': 581, 'pattern': 582, 'request': 583, 'terpusat': 584, 'lengkap': 585, 'alasan': 586, 'keamaan': 587, 'kredensial': 588, 'dipindahkan': 589, 'defaultconfig': 590, \"'”b650046bf640e7bf7054093854b8d02a\": 591, 'mengaksesnya': 592, 'buildconfig': 593, 'apikey': 594, 'b650046bf640e7bf7054093854b8d02a': 595, 'baseimageurl': 596, 'tmdb': 597, 't': 598, 'p': 599, 'w500': 600, 'baseurl': 601, 'themoviedb': 602, 'primary': 603, 'parenthese': 604, 'disesuaikan': 605, 'lokasi': 606, 'besar': 607, 'tab': 608, 'membaca': 609, 'arsip': 610, 'dicodingacademy': 611, 'blob': 612, 'core': 613, 'windows': 614, '20200806094645a1f596e7c8d1203e6747f44e1fd1a3be': 615, 'png': 616, 'tentunya': 617, 'mengikutsertakan': 618, 'git': 619, 'mengirimkan': 620, 'tingkatkan': 621, 'kualitas': 622, 'memperhatikan': 623, 'saran': 624, 'selama': 625, 'pengembangan': 626, 'memastikan': 627, 'buat': 628, 'terhindar': 629, 'segala': 630, 'bentuk': 631, 'inspeksi': 632, 'mudah': 633, 'melalui': 634, 'inspect': 635, 'ui': 636, 'mulailah': 637, 'konsep': 638, 'mengembangkan': 639, 'mengunjungi': 640, 'practices': 641, 'bottomnavigationview': 642, 'menu': 643, 'berjumlah': 644, 'minimal': 645, 'kurang': 646, 'progressbar': 647, 'swiperefreshlayout': 648, 'indikator': 649, 'loading': 650, 'kompleks': 651, 'collapsingtoolbarlayout': 652, 'dibuatkan': 653, 'tersendiri': 654, 'menggangu': 655, 'behaviour': 656, 'menggabungkan': 657, 'appbarlayout': 658, 'elevation': 659, 'dihilangkan': 660, 'menambah': 661, 'daftar': 662, 'ditempatkan': 663, 'tampilkan': 664, 'ditemukan': 665, 'antar': 666, 'sekaligus': 667, 'meningkatkan': 668, 'tautan': 669, 'preferencescreen': 670, 'materi': 671, 'codelab': 672, '3080': 673, 'menghasilkan': 674, 'jelas': 675, 'terpotong': 676, 'lengkapnya': 677, 'medium': 678, 'mobile': 679, 'development': 680, 'publication': 681, 'fully': 682, 'illustrated': 683, 'adjustviewbound': 684, '1ce094dee777': 685, 'diberi': 686, 'kosong': 687, 'lembar': 688, 'putih': 689, 'keterangan': 690, 'datanya': 691, 'cocok': 692, 'dll': 693, 'petik': 694, 'tunggal': 695, '’': 696, 'spesial': 697, 'backslash': 698, 'hello': 699, 'world’': 700, 'memindahkannya': 701, 'kedalam': 702, 'attribut': 703, 'contentdescription': 704, 'mendefinisikan': 705, 'menjelaskan': 706, 'singkat': 707, 'terutama': 708, 'aksesibilitas': 709, 'representasi': 710, 'tekstual': 711, 'menyediakannya': 712, 'berguna': 713, 'androidx': 714, 'preview': 715, 'hardcode': 716, 'lorem': 717, 'ipsum': 718, 'scale': 719, 'independent': 720, 'pixels': 721, 'sp': 722, 'mengatur': 723, '20sp': 724, '12sp': 725, 'child': 726, 'scrollview': 727, 'mulai': 728, 'start': 729, 'end': 730, 'dibandingkan': 731, 'mendukung': 732, 'i16n': 733, 'simetris': 734, 'menetapkan': 735, 'paddingleft': 736, 'tetapkan': 737, 'paddingright': 738, 'marginleft': 739, 'marginstart': 740, 'marginright': 741, 'marginend': 742, 'fitxy': 743, 'proprosi': 744, 'ratio': 745, 'aslinya': 746, 'diterjemahkan': 747, 'translatable': 748, 'rootview': 749, 'berulang': 750, 'childview': 751, 'tag': 752, 'detailactivity': 753, 'themes': 754, 'color': 755, 'blue': 756, 'fragmentcontainerview': 757, 'dikhususkan': 758, 'container': 759, 'ellipsis': 760, 'character': 761, '“…”': 762, 'ifroom': 763, 'always': 764, 'showasaction': 765, 'mana': 766, 'mengembalikan': 767, 'renaming': 768, 'miskonsepsi': 769, 'dibaca': 770, 'serta': 771, 'terletak': 772, 'outer': 773, 'otomatis': 774, 'inner': 775, 'penerapannya': 776, 'misalnya': 777, 'getcontentifnothandled': 778, 'let': 779, 'loggedin': 780, 'oncreateview': 781, 'inflate': 782, 'onactivitycreated': 783, 'berstatus': 784, 'camelcase': 785, 'haruslah': 786, 'mendeskripsikan': 787, 'action': 788, 'dicapai': 789, 'dieksekusi': 790, 'general': 791, 'menimbulkan': 792, 'pemahaman': 793, 'lowercase': 794, 'uppercase': 795, 'letter': 796, 'switch': 797, 'local': 798, 'endpoint': 799, 'tipe': 800, 'http': 801, 'device': 802, 'pie': 803, 'commit': 804, 'memblok': 805, 'penyimpanan': 806, 'persisten': 807, 'sesegera': 808, 'mungkin': 809, 'sedangkan': 810, 'menanganinya': 811, 'obtaintypedarray': 812, 'disertai': 813, 'eeee': 814, 'mmm': 815, 'dd': 816, 'yyyy': 817, 'getdefault': 818, 'contextcompat': 819, 'berlebihan': 820, 'menghapusnya': 821, 'parcelable': 822, 'hl': 823, 'id': 824, 'ubah': 825, 'dot': 826, 'manfaatkanlah': 827, 'indexing': 828, 'element': 829, 'array': 830, 'dimodifikasi': 831, 'curly': 832, 'braces': 833, 'diingat': 834, 'bahwa': 835, 'semicolon': 836, 'disetiap': 837, 'memaksa': 838, 'ternyata': 839, 'v': 840, 'a': 841, 'riable': 842, 'npe': 843, 'biarkan': 844, 'satupun': 845, 'tersisa': 846, 'memungkinkan': 847, 'mengakses': 848, 'java': 849, 'seluruh': 850, 'ubahlah': 851, 'menjadikan': 852, 'final': 853, 'holder': 854, 'getadapterposition': 855, 'posisi': 856, 'sekarang': 857, 'explicit': 858, 'cursor': 859, 'close': 860, 'turunan': 861, 'super': 862, 'fungsinya': 863, 'manfaatkan': 864, 'void': 865, 'diakhiri': 866, 'moviesdetail': 867, 'moviesdetailactivity': 868, 'bahasa': 869, 'inggris': 870, 'convention': 871, 'berlaku': 872, 'typo': 873, 'oleh': 874, 'paling': 875, 'menekan': 876, 'ctrl': 877, 'alt': 878, 'command': 879, 'options': 880, 'namanya': 881, 'dirubah': 882, 'underscore': 883, 'contohnya': 884, 'lsview': 885, 'setonitemclicklistener': 886, 'showselecteduser': 887, 'users': 888, 'all': 889, 'caps': 890, 'snake': 891, 'suppress': 892, 'networkinfo': 893, '29': 894, 'retrieve': 895, 'check': 896, 'state': 897, 'on': 898, 'off': 899, 'isconnected': 900, 'mcontext': 901, 'getsystemservice': 902, 'connectivity': 903, 'service': 904, 'as': 905, 'activenetwork': 906, 'hascapability': 907, 'capability': 908, 'internet': 909, 'bawaan': 910, 'bantuan': 911, 'new': 912, 'harap': 913, 'loadimage': 914, 'requestoptions': 915, 'override': 916, 'centercrop': 917, 'into': 918, 'menggunakannya': 919, 'berasal': 920, 'static': 921, 'fields': 922, 'leaks': 923, 'getparcelableextra': 924, 'arguments': 925, 'nilainya': 926, 'status': 927, 'nameid': 928, 'imageid': 929, 'standar': 930, 'startactivity': 931, 'menhancurkan': 932, 'diitekan': 933, 'splash': 934, 'screen': 935, 'mengatasinya': 936, 'handler': 937, 'looper': 938, 'getmainlooper': 939, 'notifikasi': 940, 'pendingintent': 941, 'mengenal': 942, 'task': 943, 'stack': 944, '209': 945, 'terupdate': 946, 'penambahan': 947, 'penghapusan': 948, 'provider': 949, 'consumer': 950, '3278': 951, 'variabel': 952, 'berisi': 953, 'kurung': 954, 'template': 955, 'create': 956, 'd': 957, 'memakainya': 958, 'detailfollowers': 959, 'getstring': 960, 'r': 961, 'memanggilnya': 962, 'diaskses': 963, 'deklrasi': 964, 'notasi': 965, 'typesafe': 966, 'pembacaan': 967, 'alangkah': 968, 'baiknya': 969, 'meng': 970, 'viewbinding': 971, 'migrate': 972, 'topic': 973, 'libraries': 974, 'migration': 975, 'dinyatakan': 976, 'blog': 977, 'depedencies': 978, 'pakai': 979, 'concise': 980, 'expressive': 981, 'argumen': 982, 'terakhir': 983, 'menganut': 984, 'lambda': 985, 'expression': 986, 'dikeluarkan': 987, 'moviedetail': 988, 'nullable': 989, 'field': 990, 'operasi': 991, 'nullpointerexception': 992, 'sewaktu': 993, 'fragmenttvshowsbinding': 994, 'detailnya': 995, 'diskusi': 996, 'intermediate': 997, 'tersimpan': 998, 'terbaca': 999, 'mekanisme': 1000, 'salah': 1001, 'autentikasi': 1002, 'untu': 1003, 'apapun': 1004, 'jadi': 1005, 'menyimpan': 1006, 'memeriksa': 1007, 'kali': 1008, 'terlebih': 1009, 'dahulu': 1010, 'apabila': 1011, 'response': 1012, 'errorbody': 1013, 'parsing': 1014, 'manual': 1015, 'gson': 1016, 'ganti': 1017, 'sebenarnya': 1018, 'emailedittext': 1019, 'digabung': 1020, 'set': 1021, 'edittext': 1022, 'password': 1023, 'biasa': 1024, 'selengkapnya': 1025, 'dokumentasi': 1026, 'dialog': 1027, 'sukses': 1028, 'akun': 1029, 'maps': 1030, 'zoom': 1031, 'fixed': 1032, 'latlngbound': 1033, 'marker': 1034, 'architecture': 1035, 'component': 1036, '4495': 1037, 'androidtest': 1038, 'diperuntukkan': 1039, 'xxx': 1040, 'dikarenakan': 1041, 'expected': 1042, 'actual': 1043, '“': 1044, '‘': 1045, 'diperbaiki': 1046, 'skenario': 1047, 'kolom': 1048, 'mengumpulkan': 1049, 'tugas': 1050, 'sekenario': 1051, '4454': 1052, 'idling': 1053, 'selanjutnya': 1054, 'menjaga': 1055, 'dimuat': 1056, 'dibutuhkan': 1057, 'getdata': 1058, 'orientasi': 1059, 'mengenai': 1060, 'lifecycle': 1061, 'menangani': 1062, 'detik': 1063, '4471': 1064, 'dijalankan': 1065, 'diperbolehkan': 1066, 'verifikasinya': 1067, 'diverifikasi': 1068, 'baris': 1069, 'cars': 1070, 'didapatkan': 1071, 'dimana': 1072, 'pasti': 1073, 'berubah': 1074, 'statis': 1075, 'kelola': 1076, '4479': 1077, 'terkadang': 1078, 'bikin': 1079, 'bingung': 1080, 'pas': 1081, 'mau': 1082, 'testingnya': 1083, 'coba': 1084, 'google': 1085, 'sample': 1086, 'temui': 1087, 'disampaikan': 1088, 'dipisah': 1089, 'dua': 1090, 'didapat': 1091, 'kedua': 1092, 'dikembalikan': 1093, 'assertionnya': 1094, 'pengujiannya': 1095, 'movierepository': 1096, 'filmid': 1097, 'mengembalikkan': 1098}\n",
            "total words: 1099\n",
            "2.8.0\n"
          ]
        }
      ]
    },
    {
      "cell_type": "code",
      "source": [
        "# Initialize the sequences list\n",
        "input_sequences = []\n",
        "\n",
        "# Loop over every line\n",
        "for line in corpus:\n",
        "\n",
        "\t# Tokenize the current line\n",
        "\ttoken_list = tokenizer.texts_to_sequences([line])[0]\n",
        "\n",
        "\t# Loop over the line several times to generate the subphrases\n",
        "\tfor i in range(1, len(token_list)):\n",
        "\t\t\n",
        "\t\t# Generate the subphrase\n",
        "\t\tn_gram_sequence = token_list[:i+1]\n",
        "\n",
        "\t\t# Append the subphrase to the sequences list\n",
        "\t\tinput_sequences.append(n_gram_sequence)\n",
        "\n",
        "# Get the length of the longest line\n",
        "max_sequence_len = max([len(x) for x in input_sequences])\n",
        "print(max_sequence_len)\n",
        "\n",
        "# Pad all sequences\n",
        "input_sequences = np.array(pad_sequences(input_sequences, maxlen=max_sequence_len, padding='pre'))\n",
        "\n",
        "# Create inputs and label by splitting the last token in the subphrases\n",
        "xs, labels = input_sequences[:,:-1],input_sequences[:,-1]\n",
        "\n",
        "# Convert the label into one-hot arrays\n",
        "ys = tf.keras.utils.to_categorical(labels, num_classes=total_words)"
      ],
      "metadata": {
        "id": "bUJ-U78rV6xH",
        "colab": {
          "base_uri": "https://localhost:8080/"
        },
        "outputId": "7dfafb41-4144-4afb-eb79-94a8a69eb52b"
      },
      "execution_count": null,
      "outputs": [
        {
          "output_type": "stream",
          "name": "stdout",
          "text": [
            "78\n"
          ]
        }
      ]
    },
    {
      "cell_type": "code",
      "source": [
        "# Get sample sentence\n",
        "sentence = corpus[0].split()\n",
        "print(f'sample sentence: {sentence}')\n",
        "\n",
        "# Initialize token list\n",
        "token_list = []\n",
        "\n",
        "# Look up the indices of each word and append to the list\n",
        "for word in sentence: \n",
        "  token_list.append(tokenizer.word_index[word])\n",
        "\n",
        "# Print the token list\n",
        "print(token_list)"
      ],
      "metadata": {
        "colab": {
          "base_uri": "https://localhost:8080/"
        },
        "id": "oaC3o90QV9UP",
        "outputId": "f9192d65-f6ac-4f69-f4c7-73f02450f5c0"
      },
      "execution_count": null,
      "outputs": [
        {
          "output_type": "stream",
          "name": "stdout",
          "text": [
            "sample sentence: ['android', 'boilerplate', 'comment']\n",
            "[14, 530, 245]\n"
          ]
        }
      ]
    },
    {
      "cell_type": "code",
      "source": [
        "# Pick element\n",
        "elem_number = 5\n",
        "\n",
        "# Print token list and phrase\n",
        "print(f'token list: {xs[elem_number]}')\n",
        "print(f'decoded to text: {tokenizer.sequences_to_texts([xs[elem_number]])}')\n",
        "\n",
        "# Print label\n",
        "print(f'one-hot label: {ys[elem_number]}')\n",
        "print(f'index of label: {np.argmax(ys[elem_number])}')"
      ],
      "metadata": {
        "colab": {
          "base_uri": "https://localhost:8080/"
        },
        "id": "SXHpeFqKWBqj",
        "outputId": "0d60752c-1a8e-4a4e-89b2-d4a164e5f555"
      },
      "execution_count": null,
      "outputs": [
        {
          "output_type": "stream",
          "name": "stdout",
          "text": [
            "token list: [  0   0   0   0   0   0   0   0   0   0   0   0   0   0   0   0   0   0\n",
            "   0   0   0   0   0   0   0   0   0   0   0   0   0   0   0   0   0   0\n",
            "   0   0   0   0   0   0   0   0   0   0   0   0   0   0   0   0   0   0\n",
            "   0   0   0   0   0   0   0   0   0   0   0   0   0   0   0   0   0   0\n",
            "   0  76   1   6 180]\n",
            "decoded to text: ['file yang kamu kirimkan']\n",
            "one-hot label: [0. 0. 0. ... 0. 0. 0.]\n",
            "index of label: 332\n"
          ]
        }
      ]
    },
    {
      "cell_type": "code",
      "source": [
        "# Pick element\n",
        "elem_number = 4\n",
        "\n",
        "# Print token list and phrase\n",
        "print(f'token list: {xs[elem_number]}')\n",
        "print(f'decoded to text: {tokenizer.sequences_to_texts([xs[elem_number]])}')\n",
        "\n",
        "# Print label\n",
        "print(f'one-hot label: {ys[elem_number]}')\n",
        "print(f'index of label: {np.argmax(ys[elem_number])}')"
      ],
      "metadata": {
        "colab": {
          "base_uri": "https://localhost:8080/"
        },
        "id": "rvyhBsiqWDCI",
        "outputId": "0111a170-d74d-4f93-e594-72106567e743"
      },
      "execution_count": null,
      "outputs": [
        {
          "output_type": "stream",
          "name": "stdout",
          "text": [
            "token list: [ 0  0  0  0  0  0  0  0  0  0  0  0  0  0  0  0  0  0  0  0  0  0  0  0\n",
            "  0  0  0  0  0  0  0  0  0  0  0  0  0  0  0  0  0  0  0  0  0  0  0  0\n",
            "  0  0  0  0  0  0  0  0  0  0  0  0  0  0  0  0  0  0  0  0  0  0  0  0\n",
            "  0  0 76  1  6]\n",
            "decoded to text: ['file yang kamu']\n",
            "one-hot label: [0. 0. 0. ... 0. 0. 0.]\n",
            "index of label: 180\n"
          ]
        }
      ]
    },
    {
      "cell_type": "code",
      "source": [
        "# Hyperparameters\n",
        "embedding_dim = 100\n",
        "lstm_units = 150\n",
        "learning_rate = 0.01\n",
        "\n",
        "# Build the model\n",
        "model = Sequential([\n",
        "          Embedding(total_words, embedding_dim, input_length=max_sequence_len-1),\n",
        "          Bidirectional(LSTM(lstm_units)),\n",
        "          Dense(total_words, activation='softmax')\n",
        "])\n",
        "\n",
        "# Use categorical crossentropy because this is a multi-class problem\n",
        "model.compile(\n",
        "    loss='categorical_crossentropy', \n",
        "    optimizer=tf.keras.optimizers.Adam(learning_rate=learning_rate), \n",
        "    metrics=['accuracy']\n",
        "    )\n",
        "\n",
        "# Print the model summary\n",
        "model.summary()"
      ],
      "metadata": {
        "colab": {
          "base_uri": "https://localhost:8080/"
        },
        "id": "Npp9VZZZWGUB",
        "outputId": "c3ee8f75-e519-4897-9bec-42f913ebd7ef"
      },
      "execution_count": null,
      "outputs": [
        {
          "output_type": "stream",
          "name": "stdout",
          "text": [
            "Model: \"sequential\"\n",
            "_________________________________________________________________\n",
            " Layer (type)                Output Shape              Param #   \n",
            "=================================================================\n",
            " embedding (Embedding)       (None, 77, 100)           109900    \n",
            "                                                                 \n",
            " bidirectional (Bidirectiona  (None, 300)              301200    \n",
            " l)                                                              \n",
            "                                                                 \n",
            " dense (Dense)               (None, 1099)              330799    \n",
            "                                                                 \n",
            "=================================================================\n",
            "Total params: 741,899\n",
            "Trainable params: 741,899\n",
            "Non-trainable params: 0\n",
            "_________________________________________________________________\n"
          ]
        }
      ]
    },
    {
      "cell_type": "code",
      "source": [
        "epochs = 100\n",
        "\n",
        "# Train the model\n",
        "history = model.fit(xs, ys, epochs=epochs)"
      ],
      "metadata": {
        "colab": {
          "base_uri": "https://localhost:8080/"
        },
        "id": "7MUVY73qWTBN",
        "outputId": "16c37deb-5415-4022-cf43-e97ef54f6659"
      },
      "execution_count": null,
      "outputs": [
        {
          "output_type": "stream",
          "name": "stdout",
          "text": [
            "Epoch 1/100\n",
            "123/123 [==============================] - 28s 199ms/step - loss: 6.2869 - accuracy: 0.0545\n",
            "Epoch 2/100\n",
            "123/123 [==============================] - 24s 198ms/step - loss: 5.0455 - accuracy: 0.1578\n",
            "Epoch 3/100\n",
            "123/123 [==============================] - 24s 198ms/step - loss: 3.7874 - accuracy: 0.2807\n",
            "Epoch 4/100\n",
            "123/123 [==============================] - 24s 198ms/step - loss: 2.5588 - accuracy: 0.4230\n",
            "Epoch 5/100\n",
            "123/123 [==============================] - 24s 199ms/step - loss: 1.6140 - accuracy: 0.6101\n",
            "Epoch 6/100\n",
            "123/123 [==============================] - 25s 200ms/step - loss: 0.9902 - accuracy: 0.7567\n",
            "Epoch 7/100\n",
            "123/123 [==============================] - 24s 198ms/step - loss: 0.6409 - accuracy: 0.8470\n",
            "Epoch 8/100\n",
            "123/123 [==============================] - 24s 199ms/step - loss: 0.4062 - accuracy: 0.9068\n",
            "Epoch 9/100\n",
            "123/123 [==============================] - 24s 199ms/step - loss: 0.2922 - accuracy: 0.9282\n",
            "Epoch 10/100\n",
            "123/123 [==============================] - 24s 197ms/step - loss: 0.2223 - accuracy: 0.9458\n",
            "Epoch 11/100\n",
            "123/123 [==============================] - 24s 198ms/step - loss: 0.1818 - accuracy: 0.9501\n",
            "Epoch 12/100\n",
            "123/123 [==============================] - 24s 198ms/step - loss: 0.1784 - accuracy: 0.9483\n",
            "Epoch 13/100\n",
            "123/123 [==============================] - 24s 198ms/step - loss: 0.1638 - accuracy: 0.9504\n",
            "Epoch 14/100\n",
            "123/123 [==============================] - 24s 198ms/step - loss: 0.1502 - accuracy: 0.9537\n",
            "Epoch 15/100\n",
            "123/123 [==============================] - 24s 197ms/step - loss: 0.1420 - accuracy: 0.9522\n",
            "Epoch 16/100\n",
            "123/123 [==============================] - 24s 198ms/step - loss: 0.1346 - accuracy: 0.9570\n",
            "Epoch 17/100\n",
            "123/123 [==============================] - 24s 199ms/step - loss: 0.1333 - accuracy: 0.9555\n",
            "Epoch 18/100\n",
            "123/123 [==============================] - 24s 197ms/step - loss: 0.1335 - accuracy: 0.9560\n",
            "Epoch 19/100\n",
            "123/123 [==============================] - 24s 198ms/step - loss: 0.1262 - accuracy: 0.9552\n",
            "Epoch 20/100\n",
            "123/123 [==============================] - 24s 197ms/step - loss: 0.1230 - accuracy: 0.9560\n",
            "Epoch 21/100\n",
            "123/123 [==============================] - 24s 198ms/step - loss: 0.1250 - accuracy: 0.9547\n",
            "Epoch 22/100\n",
            "123/123 [==============================] - 24s 198ms/step - loss: 0.1191 - accuracy: 0.9567\n",
            "Epoch 23/100\n",
            "123/123 [==============================] - 24s 198ms/step - loss: 0.1238 - accuracy: 0.9565\n",
            "Epoch 24/100\n",
            "123/123 [==============================] - 24s 198ms/step - loss: 0.1211 - accuracy: 0.9539\n",
            "Epoch 25/100\n",
            "123/123 [==============================] - 24s 197ms/step - loss: 0.1227 - accuracy: 0.9585\n",
            "Epoch 26/100\n",
            "123/123 [==============================] - 24s 198ms/step - loss: 0.1354 - accuracy: 0.9532\n",
            "Epoch 27/100\n",
            "123/123 [==============================] - 24s 197ms/step - loss: 1.7049 - accuracy: 0.6462\n",
            "Epoch 28/100\n",
            "123/123 [==============================] - 25s 200ms/step - loss: 4.0590 - accuracy: 0.2802\n",
            "Epoch 29/100\n",
            "123/123 [==============================] - 24s 198ms/step - loss: 2.2655 - accuracy: 0.4905\n",
            "Epoch 30/100\n",
            "123/123 [==============================] - 24s 199ms/step - loss: 1.1775 - accuracy: 0.7063\n",
            "Epoch 31/100\n",
            "123/123 [==============================] - 24s 199ms/step - loss: 0.6225 - accuracy: 0.8374\n",
            "Epoch 32/100\n",
            "123/123 [==============================] - 25s 200ms/step - loss: 0.3434 - accuracy: 0.9145\n",
            "Epoch 33/100\n",
            "123/123 [==============================] - 24s 198ms/step - loss: 0.2287 - accuracy: 0.9410\n",
            "Epoch 34/100\n",
            "123/123 [==============================] - 25s 200ms/step - loss: 0.1795 - accuracy: 0.9534\n",
            "Epoch 35/100\n",
            "123/123 [==============================] - 24s 199ms/step - loss: 0.1615 - accuracy: 0.9519\n",
            "Epoch 36/100\n",
            "123/123 [==============================] - 24s 198ms/step - loss: 0.1407 - accuracy: 0.9567\n",
            "Epoch 37/100\n",
            "123/123 [==============================] - 24s 198ms/step - loss: 0.1374 - accuracy: 0.9562\n",
            "Epoch 38/100\n",
            "123/123 [==============================] - 24s 198ms/step - loss: 0.1385 - accuracy: 0.9544\n",
            "Epoch 39/100\n",
            "123/123 [==============================] - 24s 199ms/step - loss: 0.1297 - accuracy: 0.9588\n",
            "Epoch 40/100\n",
            "123/123 [==============================] - 25s 199ms/step - loss: 0.1299 - accuracy: 0.9570\n",
            "Epoch 41/100\n",
            "123/123 [==============================] - 24s 198ms/step - loss: 0.1264 - accuracy: 0.9557\n",
            "Epoch 42/100\n",
            "123/123 [==============================] - 24s 198ms/step - loss: 0.1224 - accuracy: 0.9578\n",
            "Epoch 43/100\n",
            "123/123 [==============================] - 24s 198ms/step - loss: 0.1232 - accuracy: 0.9547\n",
            "Epoch 44/100\n",
            "123/123 [==============================] - 25s 200ms/step - loss: 0.1221 - accuracy: 0.9567\n",
            "Epoch 45/100\n",
            "123/123 [==============================] - 25s 200ms/step - loss: 0.1261 - accuracy: 0.9552\n",
            "Epoch 46/100\n",
            "123/123 [==============================] - 24s 198ms/step - loss: 0.1306 - accuracy: 0.9539\n",
            "Epoch 47/100\n",
            "123/123 [==============================] - 24s 198ms/step - loss: 0.1278 - accuracy: 0.9539\n",
            "Epoch 48/100\n",
            "123/123 [==============================] - 25s 199ms/step - loss: 0.1257 - accuracy: 0.9557\n",
            "Epoch 49/100\n",
            "123/123 [==============================] - 25s 199ms/step - loss: 0.1199 - accuracy: 0.9560\n",
            "Epoch 50/100\n",
            "123/123 [==============================] - 24s 199ms/step - loss: 0.1253 - accuracy: 0.9552\n",
            "Epoch 51/100\n",
            "123/123 [==============================] - 24s 198ms/step - loss: 0.1193 - accuracy: 0.9578\n",
            "Epoch 52/100\n",
            "123/123 [==============================] - 24s 198ms/step - loss: 0.1196 - accuracy: 0.9572\n",
            "Epoch 53/100\n",
            "123/123 [==============================] - 25s 199ms/step - loss: 0.1175 - accuracy: 0.9547\n",
            "Epoch 54/100\n",
            "123/123 [==============================] - 24s 199ms/step - loss: 0.1183 - accuracy: 0.9590\n",
            "Epoch 55/100\n",
            "123/123 [==============================] - 24s 199ms/step - loss: 0.1203 - accuracy: 0.9547\n",
            "Epoch 56/100\n",
            "123/123 [==============================] - 25s 200ms/step - loss: 0.1204 - accuracy: 0.9575\n",
            "Epoch 57/100\n",
            "123/123 [==============================] - 25s 200ms/step - loss: 0.1234 - accuracy: 0.9557\n",
            "Epoch 58/100\n",
            "123/123 [==============================] - 25s 201ms/step - loss: 0.1195 - accuracy: 0.9593\n",
            "Epoch 59/100\n",
            "123/123 [==============================] - 24s 199ms/step - loss: 0.2293 - accuracy: 0.9308\n",
            "Epoch 60/100\n",
            "123/123 [==============================] - 25s 199ms/step - loss: 3.7377 - accuracy: 0.3344\n",
            "Epoch 61/100\n",
            "123/123 [==============================] - 25s 200ms/step - loss: 2.9295 - accuracy: 0.4222\n",
            "Epoch 62/100\n",
            "123/123 [==============================] - 24s 198ms/step - loss: 1.3955 - accuracy: 0.6500\n",
            "Epoch 63/100\n",
            "123/123 [==============================] - 25s 199ms/step - loss: 0.7517 - accuracy: 0.8005\n",
            "Epoch 64/100\n",
            "123/123 [==============================] - 24s 198ms/step - loss: 0.4081 - accuracy: 0.8967\n",
            "Epoch 65/100\n",
            "123/123 [==============================] - 24s 199ms/step - loss: 0.2392 - accuracy: 0.9369\n",
            "Epoch 66/100\n",
            "123/123 [==============================] - 24s 199ms/step - loss: 0.1870 - accuracy: 0.9506\n",
            "Epoch 67/100\n",
            "123/123 [==============================] - 24s 199ms/step - loss: 0.1631 - accuracy: 0.9527\n",
            "Epoch 68/100\n",
            "123/123 [==============================] - 24s 199ms/step - loss: 0.1548 - accuracy: 0.9527\n",
            "Epoch 69/100\n",
            "123/123 [==============================] - 24s 199ms/step - loss: 0.1490 - accuracy: 0.9524\n",
            "Epoch 70/100\n",
            "123/123 [==============================] - 25s 200ms/step - loss: 0.1401 - accuracy: 0.9580\n",
            "Epoch 71/100\n",
            "123/123 [==============================] - 24s 199ms/step - loss: 0.1353 - accuracy: 0.9567\n",
            "Epoch 72/100\n",
            "123/123 [==============================] - 25s 199ms/step - loss: 0.1267 - accuracy: 0.9590\n",
            "Epoch 73/100\n",
            "123/123 [==============================] - 25s 200ms/step - loss: 0.1273 - accuracy: 0.9539\n",
            "Epoch 74/100\n",
            "123/123 [==============================] - 24s 199ms/step - loss: 0.1251 - accuracy: 0.9580\n",
            "Epoch 75/100\n",
            "123/123 [==============================] - 25s 200ms/step - loss: 0.1312 - accuracy: 0.9534\n",
            "Epoch 76/100\n",
            "123/123 [==============================] - 25s 199ms/step - loss: 0.1272 - accuracy: 0.9578\n",
            "Epoch 77/100\n",
            "123/123 [==============================] - 25s 199ms/step - loss: 0.1314 - accuracy: 0.9565\n",
            "Epoch 78/100\n",
            "123/123 [==============================] - 25s 200ms/step - loss: 0.1294 - accuracy: 0.9560\n",
            "Epoch 79/100\n",
            "123/123 [==============================] - 25s 200ms/step - loss: 0.1253 - accuracy: 0.9572\n",
            "Epoch 80/100\n",
            "123/123 [==============================] - 25s 200ms/step - loss: 0.1271 - accuracy: 0.9542\n",
            "Epoch 81/100\n",
            "123/123 [==============================] - 25s 200ms/step - loss: 0.1273 - accuracy: 0.9575\n",
            "Epoch 82/100\n",
            "123/123 [==============================] - 25s 202ms/step - loss: 0.1303 - accuracy: 0.9537\n",
            "Epoch 83/100\n",
            "123/123 [==============================] - 25s 200ms/step - loss: 0.1251 - accuracy: 0.9567\n",
            "Epoch 84/100\n",
            "123/123 [==============================] - 25s 200ms/step - loss: 0.1277 - accuracy: 0.9562\n",
            "Epoch 85/100\n",
            "123/123 [==============================] - 25s 201ms/step - loss: 0.1337 - accuracy: 0.9529\n",
            "Epoch 86/100\n",
            "123/123 [==============================] - 25s 201ms/step - loss: 0.1386 - accuracy: 0.9555\n",
            "Epoch 87/100\n",
            "123/123 [==============================] - 25s 200ms/step - loss: 0.1809 - accuracy: 0.9443\n",
            "Epoch 88/100\n",
            "123/123 [==============================] - 25s 200ms/step - loss: 0.9414 - accuracy: 0.7676\n",
            "Epoch 89/100\n",
            "123/123 [==============================] - 25s 200ms/step - loss: 3.0436 - accuracy: 0.4194\n",
            "Epoch 90/100\n",
            "123/123 [==============================] - 25s 200ms/step - loss: 1.8712 - accuracy: 0.5767\n",
            "Epoch 91/100\n",
            "123/123 [==============================] - 25s 200ms/step - loss: 1.0070 - accuracy: 0.7320\n",
            "Epoch 92/100\n",
            "123/123 [==============================] - 25s 200ms/step - loss: 0.5394 - accuracy: 0.8501\n",
            "Epoch 93/100\n",
            "123/123 [==============================] - 25s 200ms/step - loss: 0.3094 - accuracy: 0.9178\n",
            "Epoch 94/100\n",
            "123/123 [==============================] - 25s 201ms/step - loss: 0.2139 - accuracy: 0.9435\n",
            "Epoch 95/100\n",
            "123/123 [==============================] - 25s 201ms/step - loss: 0.1730 - accuracy: 0.9504\n",
            "Epoch 96/100\n",
            "123/123 [==============================] - 24s 199ms/step - loss: 0.1527 - accuracy: 0.9527\n",
            "Epoch 97/100\n",
            "123/123 [==============================] - 25s 201ms/step - loss: 0.1477 - accuracy: 0.9534\n",
            "Epoch 98/100\n",
            "123/123 [==============================] - 24s 199ms/step - loss: 0.1362 - accuracy: 0.9585\n",
            "Epoch 99/100\n",
            "123/123 [==============================] - 25s 200ms/step - loss: 0.1319 - accuracy: 0.9547\n",
            "Epoch 100/100\n",
            "123/123 [==============================] - 25s 200ms/step - loss: 0.1320 - accuracy: 0.9570\n"
          ]
        }
      ]
    },
    {
      "cell_type": "code",
      "source": [
        "model.save('saved_model/my_model') "
      ],
      "metadata": {
        "colab": {
          "base_uri": "https://localhost:8080/",
          "height": 165
        },
        "id": "8OK7BAh6HIh-",
        "outputId": "a3d6a656-b4ae-4a92-e70c-a14705b29649"
      },
      "execution_count": null,
      "outputs": [
        {
          "output_type": "error",
          "ename": "AttributeError",
          "evalue": "ignored",
          "traceback": [
            "\u001b[0;31m---------------------------------------------------------------------------\u001b[0m",
            "\u001b[0;31mAttributeError\u001b[0m                            Traceback (most recent call last)",
            "\u001b[0;32m<ipython-input-14-5c2ec5107f7e>\u001b[0m in \u001b[0;36m<module>\u001b[0;34m()\u001b[0m\n\u001b[0;32m----> 1\u001b[0;31m \u001b[0mhistory\u001b[0m\u001b[0;34m.\u001b[0m\u001b[0msave\u001b[0m\u001b[0;34m(\u001b[0m\u001b[0;34m'saved_model/my_model'\u001b[0m\u001b[0;34m)\u001b[0m\u001b[0;34m\u001b[0m\u001b[0;34m\u001b[0m\u001b[0m\n\u001b[0m",
            "\u001b[0;31mAttributeError\u001b[0m: 'History' object has no attribute 'save'"
          ]
        }
      ]
    },
    {
      "cell_type": "code",
      "source": [
        "!zip -r /content/saved_model.zip /content/saved_model"
      ],
      "metadata": {
        "colab": {
          "base_uri": "https://localhost:8080/"
        },
        "id": "pq8XuolHH6Ob",
        "outputId": "048e8072-469a-4f39-af6e-12ee639eec9f"
      },
      "execution_count": null,
      "outputs": [
        {
          "output_type": "stream",
          "name": "stdout",
          "text": [
            "  adding: content/saved_model/ (stored 0%)\n",
            "  adding: content/saved_model/my_model/ (stored 0%)\n",
            "  adding: content/saved_model/my_model/assets/ (stored 0%)\n",
            "  adding: content/saved_model/my_model/variables/ (stored 0%)\n",
            "  adding: content/saved_model/my_model/variables/variables.index (deflated 64%)\n",
            "  adding: content/saved_model/my_model/variables/variables.data-00000-of-00001 (deflated 7%)\n",
            "  adding: content/saved_model/my_model/keras_metadata.pb (deflated 89%)\n",
            "  adding: content/saved_model/my_model/saved_model.pb (deflated 91%)\n"
          ]
        }
      ]
    },
    {
      "cell_type": "code",
      "source": [
        "from google.colab import files\n",
        "files.download('/content/saved_model.zip')"
      ],
      "metadata": {
        "colab": {
          "base_uri": "https://localhost:8080/",
          "height": 17
        },
        "id": "uNHHB40cIE7m",
        "outputId": "2c4fefdc-0a42-4010-a2dd-e1fa3d38b1b5"
      },
      "execution_count": null,
      "outputs": [
        {
          "output_type": "display_data",
          "data": {
            "text/plain": [
              "<IPython.core.display.Javascript object>"
            ],
            "application/javascript": [
              "\n",
              "    async function download(id, filename, size) {\n",
              "      if (!google.colab.kernel.accessAllowed) {\n",
              "        return;\n",
              "      }\n",
              "      const div = document.createElement('div');\n",
              "      const label = document.createElement('label');\n",
              "      label.textContent = `Downloading \"${filename}\": `;\n",
              "      div.appendChild(label);\n",
              "      const progress = document.createElement('progress');\n",
              "      progress.max = size;\n",
              "      div.appendChild(progress);\n",
              "      document.body.appendChild(div);\n",
              "\n",
              "      const buffers = [];\n",
              "      let downloaded = 0;\n",
              "\n",
              "      const channel = await google.colab.kernel.comms.open(id);\n",
              "      // Send a message to notify the kernel that we're ready.\n",
              "      channel.send({})\n",
              "\n",
              "      for await (const message of channel.messages) {\n",
              "        // Send a message to notify the kernel that we're ready.\n",
              "        channel.send({})\n",
              "        if (message.buffers) {\n",
              "          for (const buffer of message.buffers) {\n",
              "            buffers.push(buffer);\n",
              "            downloaded += buffer.byteLength;\n",
              "            progress.value = downloaded;\n",
              "          }\n",
              "        }\n",
              "      }\n",
              "      const blob = new Blob(buffers, {type: 'application/binary'});\n",
              "      const a = document.createElement('a');\n",
              "      a.href = window.URL.createObjectURL(blob);\n",
              "      a.download = filename;\n",
              "      div.appendChild(a);\n",
              "      a.click();\n",
              "      div.remove();\n",
              "    }\n",
              "  "
            ]
          },
          "metadata": {}
        },
        {
          "output_type": "display_data",
          "data": {
            "text/plain": [
              "<IPython.core.display.Javascript object>"
            ],
            "application/javascript": [
              "download(\"download_2ec1747b-88ad-4dc9-9bb7-4312ea8aac8e\", \"saved_model.zip\", 8478742)"
            ]
          },
          "metadata": {}
        }
      ]
    },
    {
      "cell_type": "code",
      "source": [
        "# Define seed text\n",
        "seed_text = \"Jika return type pada sebuah fungsi tidak kamu manfaatkan,\"\n",
        "\n",
        "# Define total words to predict\n",
        "next_words = 6\n",
        "\n",
        "# Loop until desired length is reached\n",
        "for _ in range(next_words):\n",
        "\n",
        "\t# Convert the seed text to a token sequence\n",
        "\ttoken_list = tokenizer.texts_to_sequences([seed_text])[0]\n",
        "\n",
        "\t# Pad the sequence\n",
        "\ttoken_list = pad_sequences([token_list], maxlen=max_sequence_len-1, padding='pre')\n",
        "\t\n",
        "\t# Feed to the model and get the probabilities for each index\n",
        "\tprobabilities = model.predict(token_list)\n",
        "\n",
        "\t# Get the index with the highest probability\n",
        "\tpredicted = np.argmax(probabilities, axis=-1)[0]\n",
        "\n",
        "\t# Ignore if index is 0 because that is just the padding.\n",
        "\tif predicted != 0:\n",
        "\t\t\n",
        "\t\t# Look up the word associated with the index. \n",
        "\t\toutput_word = tokenizer.index_word[predicted]\n",
        "\n",
        "\t\t# Combine with the seed text\n",
        "\t\tseed_text += \" \" + output_word\n",
        "\n",
        "# Print the result\t\n",
        "print(seed_text)"
      ],
      "metadata": {
        "colab": {
          "base_uri": "https://localhost:8080/",
          "height": 658
        },
        "id": "ysyqmzrUheFx",
        "outputId": "ba2d868b-93f1-44ea-b93e-ba06ea55720f"
      },
      "execution_count": null,
      "outputs": [
        {
          "output_type": "error",
          "ename": "ValueError",
          "evalue": "ignored",
          "traceback": [
            "\u001b[0;31m---------------------------------------------------------------------------\u001b[0m",
            "\u001b[0;31mValueError\u001b[0m                                Traceback (most recent call last)",
            "\u001b[0;32m<ipython-input-22-a1cec5358e2c>\u001b[0m in \u001b[0;36m<module>\u001b[0;34m()\u001b[0m\n\u001b[1;32m     15\u001b[0m \u001b[0;34m\u001b[0m\u001b[0m\n\u001b[1;32m     16\u001b[0m         \u001b[0;31m# Feed to the model and get the probabilities for each index\u001b[0m\u001b[0;34m\u001b[0m\u001b[0;34m\u001b[0m\u001b[0;34m\u001b[0m\u001b[0m\n\u001b[0;32m---> 17\u001b[0;31m         \u001b[0mprobabilities\u001b[0m \u001b[0;34m=\u001b[0m \u001b[0mmodel\u001b[0m\u001b[0;34m.\u001b[0m\u001b[0mpredict\u001b[0m\u001b[0;34m(\u001b[0m\u001b[0mtoken_list\u001b[0m\u001b[0;34m)\u001b[0m\u001b[0;34m\u001b[0m\u001b[0;34m\u001b[0m\u001b[0m\n\u001b[0m\u001b[1;32m     18\u001b[0m \u001b[0;34m\u001b[0m\u001b[0m\n\u001b[1;32m     19\u001b[0m         \u001b[0;31m# Get the index with the highest probability\u001b[0m\u001b[0;34m\u001b[0m\u001b[0;34m\u001b[0m\u001b[0;34m\u001b[0m\u001b[0m\n",
            "\u001b[0;32m/usr/local/lib/python3.7/dist-packages/keras/utils/traceback_utils.py\u001b[0m in \u001b[0;36merror_handler\u001b[0;34m(*args, **kwargs)\u001b[0m\n\u001b[1;32m     65\u001b[0m     \u001b[0;32mexcept\u001b[0m \u001b[0mException\u001b[0m \u001b[0;32mas\u001b[0m \u001b[0me\u001b[0m\u001b[0;34m:\u001b[0m  \u001b[0;31m# pylint: disable=broad-except\u001b[0m\u001b[0;34m\u001b[0m\u001b[0;34m\u001b[0m\u001b[0m\n\u001b[1;32m     66\u001b[0m       \u001b[0mfiltered_tb\u001b[0m \u001b[0;34m=\u001b[0m \u001b[0m_process_traceback_frames\u001b[0m\u001b[0;34m(\u001b[0m\u001b[0me\u001b[0m\u001b[0;34m.\u001b[0m\u001b[0m__traceback__\u001b[0m\u001b[0;34m)\u001b[0m\u001b[0;34m\u001b[0m\u001b[0;34m\u001b[0m\u001b[0m\n\u001b[0;32m---> 67\u001b[0;31m       \u001b[0;32mraise\u001b[0m \u001b[0me\u001b[0m\u001b[0;34m.\u001b[0m\u001b[0mwith_traceback\u001b[0m\u001b[0;34m(\u001b[0m\u001b[0mfiltered_tb\u001b[0m\u001b[0;34m)\u001b[0m \u001b[0;32mfrom\u001b[0m \u001b[0;32mNone\u001b[0m\u001b[0;34m\u001b[0m\u001b[0;34m\u001b[0m\u001b[0m\n\u001b[0m\u001b[1;32m     68\u001b[0m     \u001b[0;32mfinally\u001b[0m\u001b[0;34m:\u001b[0m\u001b[0;34m\u001b[0m\u001b[0;34m\u001b[0m\u001b[0m\n\u001b[1;32m     69\u001b[0m       \u001b[0;32mdel\u001b[0m \u001b[0mfiltered_tb\u001b[0m\u001b[0;34m\u001b[0m\u001b[0;34m\u001b[0m\u001b[0m\n",
            "\u001b[0;32m/usr/local/lib/python3.7/dist-packages/tensorflow/python/framework/func_graph.py\u001b[0m in \u001b[0;36mautograph_handler\u001b[0;34m(*args, **kwargs)\u001b[0m\n\u001b[1;32m   1145\u001b[0m           \u001b[0;32mexcept\u001b[0m \u001b[0mException\u001b[0m \u001b[0;32mas\u001b[0m \u001b[0me\u001b[0m\u001b[0;34m:\u001b[0m  \u001b[0;31m# pylint:disable=broad-except\u001b[0m\u001b[0;34m\u001b[0m\u001b[0;34m\u001b[0m\u001b[0m\n\u001b[1;32m   1146\u001b[0m             \u001b[0;32mif\u001b[0m \u001b[0mhasattr\u001b[0m\u001b[0;34m(\u001b[0m\u001b[0me\u001b[0m\u001b[0;34m,\u001b[0m \u001b[0;34m\"ag_error_metadata\"\u001b[0m\u001b[0;34m)\u001b[0m\u001b[0;34m:\u001b[0m\u001b[0;34m\u001b[0m\u001b[0;34m\u001b[0m\u001b[0m\n\u001b[0;32m-> 1147\u001b[0;31m               \u001b[0;32mraise\u001b[0m \u001b[0me\u001b[0m\u001b[0;34m.\u001b[0m\u001b[0mag_error_metadata\u001b[0m\u001b[0;34m.\u001b[0m\u001b[0mto_exception\u001b[0m\u001b[0;34m(\u001b[0m\u001b[0me\u001b[0m\u001b[0;34m)\u001b[0m\u001b[0;34m\u001b[0m\u001b[0;34m\u001b[0m\u001b[0m\n\u001b[0m\u001b[1;32m   1148\u001b[0m             \u001b[0;32melse\u001b[0m\u001b[0;34m:\u001b[0m\u001b[0;34m\u001b[0m\u001b[0;34m\u001b[0m\u001b[0m\n\u001b[1;32m   1149\u001b[0m               \u001b[0;32mraise\u001b[0m\u001b[0;34m\u001b[0m\u001b[0;34m\u001b[0m\u001b[0m\n",
            "\u001b[0;31mValueError\u001b[0m: in user code:\n\n    File \"/usr/local/lib/python3.7/dist-packages/keras/engine/training.py\", line 1801, in predict_function  *\n        return step_function(self, iterator)\n    File \"/usr/local/lib/python3.7/dist-packages/keras/engine/training.py\", line 1790, in step_function  **\n        outputs = model.distribute_strategy.run(run_step, args=(data,))\n    File \"/usr/local/lib/python3.7/dist-packages/keras/engine/training.py\", line 1783, in run_step  **\n        outputs = model.predict_step(data)\n    File \"/usr/local/lib/python3.7/dist-packages/keras/engine/training.py\", line 1751, in predict_step\n        return self(x, training=False)\n    File \"/usr/local/lib/python3.7/dist-packages/keras/utils/traceback_utils.py\", line 67, in error_handler\n        raise e.with_traceback(filtered_tb) from None\n    File \"/usr/local/lib/python3.7/dist-packages/keras/engine/input_spec.py\", line 264, in assert_input_compatibility\n        raise ValueError(f'Input {input_index} of layer \"{layer_name}\" is '\n\n    ValueError: Input 0 of layer \"sequential\" is incompatible with the layer: expected shape=(None, 77), found shape=(None, 71)\n"
          ]
        }
      ]
    },
    {
      "cell_type": "code",
      "source": [
        "# Define seed text\n",
        "seed_text = \"variable\"\n",
        "\n",
        "# Define total words to predict\n",
        "next_words = 5\n",
        "\n",
        "# Loop until desired length is reached\n",
        "for _ in range(next_words):\n",
        "\n",
        "\t# Convert the seed text to a token sequence\n",
        "  token_list = tokenizer.texts_to_sequences([seed_text])[0]\n",
        "\n",
        "\t# Pad the sequence\n",
        "  token_list = pad_sequences([token_list], maxlen=max_sequence_len-1, padding='pre')\n",
        "\t\n",
        "\t# Feed to the model and get the probabilities for each index\n",
        "  probabilities = model.predict(token_list)\n",
        "\n",
        "  # Pick a random number from [1,2,3]\n",
        "  choice = np.random.choice([1,2,3])\n",
        "\t\n",
        "  # Sort the probabilities in ascending order \n",
        "  # and get the random choice from the end of the array\n",
        "  predicted = np.argsort(probabilities)[0][-choice]\n",
        "\n",
        "\t# Ignore if index is 0 because that is just the padding.\n",
        "  if predicted != 0:\n",
        "\t\t\n",
        "\t\t# Look up the word associated with the index. \n",
        "\t  output_word = tokenizer.index_word[predicted]\n",
        "\n",
        "\t\t# Combine with the seed text\n",
        "\t  seed_text += \" \" + output_word\n",
        "\n",
        "# Print the result\t\n",
        "print(seed_text)"
      ],
      "metadata": {
        "colab": {
          "base_uri": "https://localhost:8080/"
        },
        "id": "VOV7yzjLiHET",
        "outputId": "70d5a135-3692-40e0-ead7-5828b64a3833"
      },
      "execution_count": null,
      "outputs": [
        {
          "output_type": "stream",
          "name": "stdout",
          "text": [
            "variable konstan yang hanya berisi dan\n"
          ]
        }
      ]
    },
    {
      "cell_type": "code",
      "source": [
        "import matplotlib.pyplot as plt\n",
        "\n",
        "# Plot utility\n",
        "def plot_graphs(history, string):\n",
        "  plt.plot(history.history[string])\n",
        "  plt.xlabel(\"Epochs\")\n",
        "  plt.ylabel(string)\n",
        "  plt.show()\n",
        "\n",
        "# Visualize the accuracy\n",
        "plot_graphs(history, 'accuracy')"
      ],
      "metadata": {
        "colab": {
          "base_uri": "https://localhost:8080/",
          "height": 282
        },
        "id": "V2Azdl1rJXu0",
        "outputId": "96de0693-ed4d-4b6f-8207-bdd73ccc6a58"
      },
      "execution_count": null,
      "outputs": [
        {
          "output_type": "display_data",
          "data": {
            "text/plain": [
              "<Figure size 432x288 with 1 Axes>"
            ],
            "image/png": "[encoded data removed]"
          },
          "metadata": {
            "needs_background": "light"
          }
        }
      ]
    },
    {
      "cell_type": "code",
      "source": [
        "#-----------------------------------------------------------\n",
        "# Retrieve a list of list results on training and test data\n",
        "# sets for each training epoch\n",
        "#-----------------------------------------------------------\n",
        "loss = history.history['loss']\n",
        "\n",
        "\n",
        "epochs = [*range(100)]\n",
        "\n",
        "#------------------------------------------------\n",
        "# Plot training and validation loss per epoch\n",
        "#------------------------------------------------\n",
        "plt.plot(epochs, loss, 'r')\n",
        "plt.title('Training  loss')\n",
        "plt.xlabel(\"Epochs\")\n",
        "plt.ylabel(\"Loss\")\n",
        "plt.legend([\"Loss\"])\n",
        "plt.show()"
      ],
      "metadata": {
        "colab": {
          "base_uri": "https://localhost:8080/",
          "height": 295
        },
        "id": "wvjQYO6Wf-zq",
        "outputId": "edbbb0f4-ac06-498e-b9fd-5f2160c30c4f"
      },
      "execution_count": null,
      "outputs": [
        {
          "output_type": "display_data",
          "data": {
            "text/plain": [
              "<Figure size 432x288 with 1 Axes>"
            ],
            "image/png": "[encoded data removed]"
          },
          "metadata": {
            "needs_background": "light"
          }
        }
      ]
    },
    {
      "cell_type": "code",
      "source": [
        "!unzip \"/content/sample_data/saved_model.zip\" -d \"/content/sample_data/saved_model\""
      ],
      "metadata": {
        "colab": {
          "base_uri": "https://localhost:8080/"
        },
        "id": "A9USqbqAaGCw",
        "outputId": "cd22c6be-d0e1-41b0-a534-2330593bc0ff"
      },
      "execution_count": null,
      "outputs": [
        {
          "output_type": "stream",
          "name": "stdout",
          "text": [
            "Archive:  /content/sample_data/saved_model.zip\n",
            "   creating: /content/sample_data/saved_model/content/saved_model/\n",
            "   creating: /content/sample_data/saved_model/content/saved_model/my_model/\n",
            "   creating: /content/sample_data/saved_model/content/saved_model/my_model/assets/\n",
            "   creating: /content/sample_data/saved_model/content/saved_model/my_model/variables/\n",
            "  inflating: /content/sample_data/saved_model/content/saved_model/my_model/variables/variables.index  \n",
            "  inflating: /content/sample_data/saved_model/content/saved_model/my_model/variables/variables.data-00000-of-00001  \n",
            "  inflating: /content/sample_data/saved_model/content/saved_model/my_model/keras_metadata.pb  \n",
            "  inflating: /content/sample_data/saved_model/content/saved_model/my_model/saved_model.pb  \n"
          ]
        }
      ]
    },
    {
      "cell_type": "code",
      "source": [
        "from tensorflow import keras\n",
        "model = keras.models.load_model('/content/sample_data/saved_model/content/saved_model/my_model')"
      ],
      "metadata": {
        "id": "bwVggqU2aVWW"
      },
      "execution_count": null,
      "outputs": []
    },
    {
      "cell_type": "code",
      "source": [
        "model.compile(\n",
        "    loss='categorical_crossentropy', \n",
        "    optimizer=tf.keras.optimizers.Adam(learning_rate=0.01), \n",
        "    metrics=['accuracy']\n",
        "    )"
      ],
      "metadata": {
        "id": "Ov27_Fa1cywf"
      },
      "execution_count": null,
      "outputs": []
    },
    {
      "cell_type": "code",
      "source": [
        "# Define seed text\n",
        "seed_text = \"File yang kamu kirimkan bukan merupakan file\"\n",
        "\n",
        "# Define total words to predict\n",
        "next_words = 7\n",
        "\n",
        "# Loop until desired length is reached\n",
        "for _ in range(next_words):\n",
        "\n",
        "\t# Convert the seed text to a token sequence\n",
        "  token_list = tokenizer.texts_to_sequences([seed_text])[0]\n",
        "\n",
        "\t# Pad the sequence\n",
        "  token_list = pad_sequences([token_list], maxlen=max_sequence_len-1, padding='pre')\n",
        "\n",
        "\t\n",
        "\t# Feed to the model and get the probabilities for each index\n",
        "  probabilities = model.predict(token_list)\n",
        "\n",
        "  # Pick a random number from [1,2,3]\n",
        "  choice = np.random.choice([1,2,3])\n",
        "\t\n",
        "  # Sort the probabilities in ascending order \n",
        "  # and get the random choice from the end of the array\n",
        "  predicted = np.argsort(probabilities)[0][-choice]\n",
        "\n",
        "\t# Ignore if index is 0 because that is just the padding.\n",
        "  if predicted != 0:\n",
        "\t\t\n",
        "\t\t# Look up the word associated with the index. \n",
        "\t  output_word = tokenizer.index_word[predicted]\n",
        "\n",
        "\t\t# Combine with the seed text\n",
        "\t  seed_text += \" \" + output_word\n",
        "\n",
        "# Print the result\t\n",
        "print(seed_text)"
      ],
      "metadata": {
        "colab": {
          "base_uri": "https://localhost:8080/"
        },
        "id": "l-vlYbqZamKR",
        "outputId": "7f60d7bf-0ff0-4c74-d03e-39f78f769002"
      },
      "execution_count": null,
      "outputs": [
        {
          "output_type": "stream",
          "name": "stdout",
          "text": [
            "File yang kamu kirimkan bukan merupakan file project android studio kamu melakukan pengujian test\n"
          ]
        }
      ]
    },
    {
      "cell_type": "code",
      "source": [
        "# Define seed text\n",
        "seed_text = \"variable\"\n",
        "\n",
        "# Define total words to predict\n",
        "next_words = 6\n",
        "\n",
        "# Loop until desired length is reached\n",
        "for _ in range(next_words):\n",
        "\n",
        "\t# Convert the seed text to a token sequence\n",
        "\ttoken_list = tokenizer.texts_to_sequences([seed_text])[0]\n",
        "\n",
        "\t# Pad the sequence\n",
        "\ttoken_list = pad_sequences([token_list], maxlen=max_sequence_len-1, padding='pre')\n",
        "\t\n",
        "\t# Feed to the model and get the probabilities for each index\n",
        "\tprobabilities = model.predict(token_list)\n",
        "\n",
        "\t# Get the index with the highest probability\n",
        "\tpredicted = np.argmax(probabilities, axis=-1)[0]\n",
        "\n",
        "\t# Ignore if index is 0 because that is just the padding.\n",
        "\tif predicted != 0:\n",
        "\t\t\n",
        "\t\t# Look up the word associated with the index. \n",
        "\t\toutput_word = tokenizer.index_word[predicted]\n",
        "\n",
        "\t\t# Combine with the seed text\n",
        "\t\tseed_text += \" \" + output_word\n",
        "\n",
        "# Print the result\t\n",
        "print(seed_text)"
      ],
      "metadata": {
        "colab": {
          "base_uri": "https://localhost:8080/"
        },
        "id": "39q6l-m8diuS",
        "outputId": "b980fdd3-0ccb-4f1c-bbde-7871170f7665"
      },
      "execution_count": null,
      "outputs": [
        {
          "output_type": "stream",
          "name": "stdout",
          "text": [
            "variable yang berada didalam sebuah companion object\n"
          ]
        }
      ]
    },
    {
      "cell_type": "code",
      "source": [
        "!echo \"deb http://storage.googleapis.com/tensorflow-serving-apt stable tensorflow-model-server tensorflow-model-server-universal\" | tee /etc/apt/sources.list.d/tensorflow-serving.list && \\\n",
        "curl https://storage.googleapis.com/tensorflow-serving-apt/tensorflow-serving.release.pub.gpg | apt-key add -\n",
        "!apt update"
      ],
      "metadata": {
        "colab": {
          "base_uri": "https://localhost:8080/"
        },
        "id": "Ymse3jo5gvcm",
        "outputId": "cff311e1-36eb-448f-8d33-34bdbd8c77a1"
      },
      "execution_count": null,
      "outputs": [
        {
          "output_type": "stream",
          "name": "stdout",
          "text": [
            "deb http://storage.googleapis.com/tensorflow-serving-apt stable tensorflow-model-server tensorflow-model-server-universal\n",
            "  % Total    % Received % Xferd  Average Speed   Time    Time     Time  Current\n",
            "                                 Dload  Upload   Total   Spent    Left  Speed\n",
            "100  2943  100  2943    0     0  14426      0 --:--:-- --:--:-- --:--:-- 14426\n",
            "OK\n",
            "Get:1 http://security.ubuntu.com/ubuntu bionic-security InRelease [88.7 kB]\n",
            "Hit:2 https://developer.download.nvidia.com/compute/cuda/repos/ubuntu1804/x86_64  InRelease\n",
            "Get:3 https://cloud.r-project.org/bin/linux/ubuntu bionic-cran40/ InRelease [3,626 B]\n",
            "Get:4 http://storage.googleapis.com/tensorflow-serving-apt stable InRelease [3,012 B]\n",
            "Ign:5 https://developer.download.nvidia.com/compute/machine-learning/repos/ubuntu1804/x86_64  InRelease\n",
            "Hit:6 http://archive.ubuntu.com/ubuntu bionic InRelease\n",
            "Hit:7 http://ppa.launchpad.net/c2d4u.team/c2d4u4.0+/ubuntu bionic InRelease\n",
            "Hit:8 https://developer.download.nvidia.com/compute/machine-learning/repos/ubuntu1804/x86_64  Release\n",
            "Get:9 http://archive.ubuntu.com/ubuntu bionic-updates InRelease [88.7 kB]\n",
            "Hit:10 http://ppa.launchpad.net/cran/libgit2/ubuntu bionic InRelease\n",
            "Hit:11 http://ppa.launchpad.net/deadsnakes/ppa/ubuntu bionic InRelease\n",
            "Get:12 http://archive.ubuntu.com/ubuntu bionic-backports InRelease [74.6 kB]\n",
            "Get:13 http://ppa.launchpad.net/graphics-drivers/ppa/ubuntu bionic InRelease [21.3 kB]\n",
            "Get:14 http://storage.googleapis.com/tensorflow-serving-apt stable/tensorflow-model-server-universal amd64 Packages [349 B]\n",
            "Get:15 http://storage.googleapis.com/tensorflow-serving-apt stable/tensorflow-model-server amd64 Packages [341 B]\n",
            "Get:16 http://security.ubuntu.com/ubuntu bionic-security/universe amd64 Packages [1,503 kB]\n",
            "Get:17 http://security.ubuntu.com/ubuntu bionic-security/main amd64 Packages [2,765 kB]\n",
            "Get:18 http://security.ubuntu.com/ubuntu bionic-security/multiverse amd64 Packages [22.8 kB]\n",
            "Get:19 http://security.ubuntu.com/ubuntu bionic-security/restricted amd64 Packages [932 kB]\n",
            "Get:21 http://archive.ubuntu.com/ubuntu bionic-updates/restricted amd64 Packages [966 kB]\n",
            "Get:22 http://archive.ubuntu.com/ubuntu bionic-updates/main amd64 Packages [3,199 kB]\n",
            "Get:23 http://archive.ubuntu.com/ubuntu bionic-updates/universe amd64 Packages [2,277 kB]\n",
            "Get:24 http://archive.ubuntu.com/ubuntu bionic-updates/multiverse amd64 Packages [29.8 kB]\n",
            "Get:25 http://ppa.launchpad.net/graphics-drivers/ppa/ubuntu bionic/main amd64 Packages [44.3 kB]\n",
            "Fetched 12.0 MB in 4s (3,094 kB/s)\n",
            "Reading package lists... Done\n",
            "Building dependency tree       \n",
            "Reading state information... Done\n",
            "47 packages can be upgraded. Run 'apt list --upgradable' to see them.\n"
          ]
        }
      ]
    },
    {
      "cell_type": "code",
      "source": [
        "!apt-get install tensorflow-model-server"
      ],
      "metadata": {
        "colab": {
          "base_uri": "https://localhost:8080/"
        },
        "id": "Rqo1PPvjfH1P",
        "outputId": "9d2f7f6e-710d-43aa-d819-7244ea13a9a9"
      },
      "execution_count": null,
      "outputs": [
        {
          "output_type": "stream",
          "name": "stdout",
          "text": [
            "Reading package lists... Done\n",
            "Building dependency tree       \n",
            "Reading state information... Done\n",
            "The following package was automatically installed and is no longer required:\n",
            "  libnvidia-common-460\n",
            "Use 'apt autoremove' to remove it.\n",
            "The following NEW packages will be installed:\n",
            "  tensorflow-model-server\n",
            "0 upgraded, 1 newly installed, 0 to remove and 47 not upgraded.\n",
            "Need to get 340 MB of archives.\n",
            "After this operation, 0 B of additional disk space will be used.\n",
            "Get:1 http://storage.googleapis.com/tensorflow-serving-apt stable/tensorflow-model-server amd64 tensorflow-model-server all 2.8.0 [340 MB]\n",
            "Fetched 340 MB in 5s (69.2 MB/s)\n",
            "Selecting previously unselected package tensorflow-model-server.\n",
            "(Reading database ... 155629 files and directories currently installed.)\n",
            "Preparing to unpack .../tensorflow-model-server_2.8.0_all.deb ...\n",
            "Unpacking tensorflow-model-server (2.8.0) ...\n",
            "Setting up tensorflow-model-server (2.8.0) ...\n"
          ]
        }
      ]
    },
    {
      "cell_type": "code",
      "source": [
        "import os\n",
        "import json\n",
        "import tempfile\n",
        "import requests\n",
        "import numpy as np\n",
        "\n",
        "import tensorflow as tf\n",
        "\n",
        "print(\"\\u2022 Using TensorFlow Version:\", tf.__version__)"
      ],
      "metadata": {
        "colab": {
          "base_uri": "https://localhost:8080/"
        },
        "id": "FZ81Vtnnfzvu",
        "outputId": "0bf1bd91-589f-4863-81d4-70262365a6aa"
      },
      "execution_count": null,
      "outputs": [
        {
          "output_type": "stream",
          "name": "stdout",
          "text": [
            "• Using TensorFlow Version: 2.8.0\n"
          ]
        }
      ]
    },
    {
      "cell_type": "code",
      "source": [
        "MODEL_DIR = tempfile.gettempdir()\n",
        "\n",
        "version = 1\n",
        "\n",
        "export_path = os.path.join(MODEL_DIR, str(version))\n",
        "\n",
        "if os.path.isdir(export_path):\n",
        "    print('\\nAlready saved a model, cleaning up\\n')\n",
        "    !rm -r {export_path}\n",
        "\n",
        "model.save(export_path, save_format=\"tf\")\n",
        "\n",
        "print('\\nexport_path = {}'.format(export_path))\n",
        "!ls -l {export_path}"
      ],
      "metadata": {
        "colab": {
          "base_uri": "https://localhost:8080/"
        },
        "id": "2zlLP0xjft4r",
        "outputId": "ef05d9ec-95d1-4ff5-cd1c-294035d0bd7d"
      },
      "execution_count": null,
      "outputs": [
        {
          "output_type": "stream",
          "name": "stderr",
          "text": [
            "WARNING:absl:Found untraced functions such as lstm_cell_13_layer_call_fn, lstm_cell_13_layer_call_and_return_conditional_losses, lstm_cell_14_layer_call_fn, lstm_cell_14_layer_call_and_return_conditional_losses while saving (showing 4 of 4). These functions will not be directly callable after loading.\n"
          ]
        },
        {
          "output_type": "stream",
          "name": "stdout",
          "text": [
            "INFO:tensorflow:Assets written to: /tmp/1/assets\n"
          ]
        },
        {
          "output_type": "stream",
          "name": "stderr",
          "text": [
            "INFO:tensorflow:Assets written to: /tmp/1/assets\n",
            "WARNING:absl:<keras.layers.recurrent.LSTMCell object at 0x7f5672a25c10> has the same name 'LSTMCell' as a built-in Keras object. Consider renaming <class 'keras.layers.recurrent.LSTMCell'> to avoid naming conflicts when loading with `tf.keras.models.load_model`. If renaming is not possible, pass the object in the `custom_objects` parameter of the load function.\n",
            "WARNING:absl:<keras.layers.recurrent.LSTMCell object at 0x7f5672a70090> has the same name 'LSTMCell' as a built-in Keras object. Consider renaming <class 'keras.layers.recurrent.LSTMCell'> to avoid naming conflicts when loading with `tf.keras.models.load_model`. If renaming is not possible, pass the object in the `custom_objects` parameter of the load function.\n"
          ]
        },
        {
          "output_type": "stream",
          "name": "stdout",
          "text": [
            "\n",
            "export_path = /tmp/1\n",
            "total 2168\n",
            "drwxr-xr-x 2 root root    4096 May 20 03:25 assets\n",
            "-rw-r--r-- 1 root root   14709 May 20 03:25 keras_metadata.pb\n",
            "-rw-r--r-- 1 root root 2193447 May 20 03:25 saved_model.pb\n",
            "drwxr-xr-x 2 root root    4096 May 20 03:25 variables\n"
          ]
        }
      ]
    },
    {
      "cell_type": "code",
      "source": [
        "!saved_model_cli show --dir {export_path} --all\n"
      ],
      "metadata": {
        "colab": {
          "base_uri": "https://localhost:8080/"
        },
        "id": "nvC1Clz0f-0q",
        "outputId": "d7327b16-2d9f-4cf4-d5df-bc3d18fda91c"
      },
      "execution_count": null,
      "outputs": [
        {
          "output_type": "stream",
          "name": "stdout",
          "text": [
            "\n",
            "MetaGraphDef with tag-set: 'serve' contains the following SignatureDefs:\n",
            "\n",
            "signature_def['__saved_model_init_op']:\n",
            "  The given SavedModel SignatureDef contains the following input(s):\n",
            "  The given SavedModel SignatureDef contains the following output(s):\n",
            "    outputs['__saved_model_init_op'] tensor_info:\n",
            "        dtype: DT_INVALID\n",
            "        shape: unknown_rank\n",
            "        name: NoOp\n",
            "  Method name is: \n",
            "\n",
            "signature_def['serving_default']:\n",
            "  The given SavedModel SignatureDef contains the following input(s):\n",
            "    inputs['embedding_input'] tensor_info:\n",
            "        dtype: DT_FLOAT\n",
            "        shape: (-1, 77)\n",
            "        name: serving_default_embedding_input:0\n",
            "  The given SavedModel SignatureDef contains the following output(s):\n",
            "    outputs['dense'] tensor_info:\n",
            "        dtype: DT_FLOAT\n",
            "        shape: (-1, 1099)\n",
            "        name: StatefulPartitionedCall:0\n",
            "  Method name is: tensorflow/serving/predict\n",
            "\n",
            "Concrete Functions:\n",
            "  Function Name: '__call__'\n",
            "    Option #1\n",
            "      Callable with:\n",
            "        Argument #1\n",
            "          embedding_input: TensorSpec(shape=(None, 77), dtype=tf.float32, name='embedding_input')\n",
            "        Argument #2\n",
            "          DType: bool\n",
            "          Value: False\n",
            "        Argument #3\n",
            "          DType: NoneType\n",
            "          Value: None\n",
            "    Option #2\n",
            "      Callable with:\n",
            "        Argument #1\n",
            "          inputs: TensorSpec(shape=(None, 77), dtype=tf.float32, name='inputs')\n",
            "        Argument #2\n",
            "          DType: bool\n",
            "          Value: False\n",
            "        Argument #3\n",
            "          DType: NoneType\n",
            "          Value: None\n",
            "    Option #3\n",
            "      Callable with:\n",
            "        Argument #1\n",
            "          embedding_input: TensorSpec(shape=(None, 77), dtype=tf.float32, name='embedding_input')\n",
            "        Argument #2\n",
            "          DType: bool\n",
            "          Value: True\n",
            "        Argument #3\n",
            "          DType: NoneType\n",
            "          Value: None\n",
            "    Option #4\n",
            "      Callable with:\n",
            "        Argument #1\n",
            "          inputs: TensorSpec(shape=(None, 77), dtype=tf.float32, name='inputs')\n",
            "        Argument #2\n",
            "          DType: bool\n",
            "          Value: True\n",
            "        Argument #3\n",
            "          DType: NoneType\n",
            "          Value: None\n",
            "\n",
            "  Function Name: '_default_save_signature'\n",
            "    Option #1\n",
            "      Callable with:\n",
            "        Argument #1\n",
            "          embedding_input: TensorSpec(shape=(None, 77), dtype=tf.float32, name='embedding_input')\n",
            "\n",
            "  Function Name: 'call_and_return_all_conditional_losses'\n",
            "    Option #1\n",
            "      Callable with:\n",
            "        Argument #1\n",
            "          inputs: TensorSpec(shape=(None, 77), dtype=tf.float32, name='inputs')\n",
            "        Argument #2\n",
            "          DType: bool\n",
            "          Value: False\n",
            "        Argument #3\n",
            "          DType: NoneType\n",
            "          Value: None\n",
            "    Option #2\n",
            "      Callable with:\n",
            "        Argument #1\n",
            "          inputs: TensorSpec(shape=(None, 77), dtype=tf.float32, name='inputs')\n",
            "        Argument #2\n",
            "          DType: bool\n",
            "          Value: True\n",
            "        Argument #3\n",
            "          DType: NoneType\n",
            "          Value: None\n",
            "    Option #3\n",
            "      Callable with:\n",
            "        Argument #1\n",
            "          embedding_input: TensorSpec(shape=(None, 77), dtype=tf.float32, name='embedding_input')\n",
            "        Argument #2\n",
            "          DType: bool\n",
            "          Value: False\n",
            "        Argument #3\n",
            "          DType: NoneType\n",
            "          Value: None\n",
            "    Option #4\n",
            "      Callable with:\n",
            "        Argument #1\n",
            "          embedding_input: TensorSpec(shape=(None, 77), dtype=tf.float32, name='embedding_input')\n",
            "        Argument #2\n",
            "          DType: bool\n",
            "          Value: True\n",
            "        Argument #3\n",
            "          DType: NoneType\n",
            "          Value: None\n"
          ]
        }
      ]
    },
    {
      "cell_type": "code",
      "source": [
        "os.environ[\"MODEL_DIR\"] = MODEL_DIR"
      ],
      "metadata": {
        "id": "-uoqsYP6gFnZ"
      },
      "execution_count": null,
      "outputs": []
    },
    {
      "cell_type": "code",
      "source": [
        "%%bash --bg \n",
        "nohup tensorflow_model_server \\\n",
        "  --rest_api_port=8501 \\\n",
        "  --model_name=helloworld \\\n",
        "  --model_base_path=\"${MODEL_DIR}\" >server.log 2>&1"
      ],
      "metadata": {
        "colab": {
          "base_uri": "https://localhost:8080/"
        },
        "id": "l1r3B8z8gH7V",
        "outputId": "e0f4ac53-45ec-49c4-b5ad-5a98b43a9c52"
      },
      "execution_count": null,
      "outputs": [
        {
          "output_type": "stream",
          "name": "stdout",
          "text": [
            "Starting job # 2 in a separate thread.\n"
          ]
        }
      ]
    },
    {
      "cell_type": "code",
      "source": [
        "!tail server.log"
      ],
      "metadata": {
        "colab": {
          "base_uri": "https://localhost:8080/"
        },
        "id": "YyG812iegKUX",
        "outputId": "9b2b6eaf-63ae-42d1-ed03-82c5909ab24f"
      },
      "execution_count": null,
      "outputs": [
        {
          "output_type": "stream",
          "name": "stdout",
          "text": [
            "[warn] getaddrinfo: address family for nodename not supported\n",
            "[evhttp_server.cc : 245] NET_LOG: Entering the event loop ...\n"
          ]
        }
      ]
    },
    {
      "cell_type": "code",
      "source": [
        "\n",
        "seed_text = \"kamu bisa\"\n",
        "next_words = 6\n",
        "for _ in range(next_words):\n",
        "\n",
        "  # Convert the seed text to a token sequence\n",
        "  token_list = tokenizer.texts_to_sequences([seed_text])[0]\n",
        "\n",
        "  # Pad the sequence\n",
        "  token_list = pad_sequences([token_list], maxlen=max_sequence_len-1, padding='pre')\n",
        "  print(token_list)\n",
        "  data = json.dumps({\"signature_name\": \"serving_default\", \"instances\": token_list.tolist()})\n",
        "\n",
        "  # Feed to the model and get the probabilities for each index\n",
        "  headers = {\"content-type\": \"application/json\"}\n",
        "  probabilities = requests.post('[REDACTED]', data=data, headers=headers)\n",
        "  predictions = json.loads(probabilities.text)['predictions']\n",
        " \n",
        "\n",
        "  # Get the index with the highest probability\n",
        "  predicted = np.argmax(predictions, axis=-1)[0]\n",
        "\n",
        "  # Ignore if index is 0 because that is just the padding.\n",
        "  if predicted != 0:\n",
        "    \n",
        "    # Look up the word associated with the index. \n",
        "    output_word = tokenizer.index_word[predicted]\n",
        "\n",
        "    # Combine with the seed text\n",
        "    seed_text += \" \" + output_word\n",
        "print(seed_text)\n",
        "\n",
        "\n",
        "\n",
        "\n"
      ],
      "metadata": {
        "colab": {
          "base_uri": "https://localhost:8080/"
        },
        "id": "i55T06zqhK2n",
        "outputId": "7a9bbe62-7e4e-458a-ec19-370326151e44"
      },
      "execution_count": null,
      "outputs": [
        {
          "output_type": "stream",
          "name": "stdout",
          "text": [
            "[[0 0 0 0 0 0 0 0 0 0 0 0 0 0 0 0 0 0 0 0 0 0 0 0 0 0 0 0 0 0 0 0 0 0 0 0\n",
            "  0 0 0 0 0 0 0 0 0 0 0 0 0 0 0 0 0 0 0 0 0 0 0 0 0 0 0 0 0 0 0 0 0 0 0 0\n",
            "  0 0 0 6 5]]\n",
            "[[ 0  0  0  0  0  0  0  0  0  0  0  0  0  0  0  0  0  0  0  0  0  0  0  0\n",
            "   0  0  0  0  0  0  0  0  0  0  0  0  0  0  0  0  0  0  0  0  0  0  0  0\n",
            "   0  0  0  0  0  0  0  0  0  0  0  0  0  0  0  0  0  0  0  0  0  0  0  0\n",
            "   0  0  6  5 77]]\n",
            "[[ 0  0  0  0  0  0  0  0  0  0  0  0  0  0  0  0  0  0  0  0  0  0  0  0\n",
            "   0  0  0  0  0  0  0  0  0  0  0  0  0  0  0  0  0  0  0  0  0  0  0  0\n",
            "   0  0  0  0  0  0  0  0  0  0  0  0  0  0  0  0  0  0  0  0  0  0  0  0\n",
            "   0  6  5 77 53]]\n",
            "[[  0   0   0   0   0   0   0   0   0   0   0   0   0   0   0   0   0   0\n",
            "    0   0   0   0   0   0   0   0   0   0   0   0   0   0   0   0   0   0\n",
            "    0   0   0   0   0   0   0   0   0   0   0   0   0   0   0   0   0   0\n",
            "    0   0   0   0   0   0   0   0   0   0   0   0   0   0   0   0   0   0\n",
            "    6   5  77  53 226]]\n",
            "[[  0   0   0   0   0   0   0   0   0   0   0   0   0   0   0   0   0   0\n",
            "    0   0   0   0   0   0   0   0   0   0   0   0   0   0   0   0   0   0\n",
            "    0   0   0   0   0   0   0   0   0   0   0   0   0   0   0   0   0   0\n",
            "    0   0   0   0   0   0   0   0   0   0   0   0   0   0   0   0   0   6\n",
            "    5  77  53 226   7]]\n",
            "[[  0   0   0   0   0   0   0   0   0   0   0   0   0   0   0   0   0   0\n",
            "    0   0   0   0   0   0   0   0   0   0   0   0   0   0   0   0   0   0\n",
            "    0   0   0   0   0   0   0   0   0   0   0   0   0   0   0   0   0   0\n",
            "    0   0   0   0   0   0   0   0   0   0   0   0   0   0   0   0   6   5\n",
            "   77  53 226   7 139]]\n",
            "kamu bisa memanfaatkan kotlin extensions https kotlinlang org\n"
          ]
        }
      ]
    },
    {
      "cell_type": "code",
      "source": [
        "headers = {\"content-type\": \"application/json\"}\n",
        "json_response = requests.post('http://localhost:8501/v1/models/helloworld:predict', data=data, headers=headers)\n",
        "\n",
        "print(json_response.text)"
      ],
      "metadata": {
        "colab": {
          "base_uri": "https://localhost:8080/"
        },
        "id": "C1sSG_WJhokG",
        "outputId": "6009967f-232e-4778-8f17-c5b086ef9250"
      },
      "execution_count": null,
      "outputs": [
        {
          "output_type": "stream",
          "name": "stdout",
          "text": [
            "{\n",
            "    \"error\": \"JSON Value: {\\n    \\\"signature_name\\\": \\\"serving_default\\\",\\n    \\\"instances\\\": \\\"variable\\\"\\n} Expecting 'instances' to be an list/array\"\n",
            "}\n"
          ]
        }
      ]
    },
    {
      "cell_type": "code",
      "source": [
        "# Define seed text\n",
        "seed_text = \"variable\"\n",
        "\n",
        "# Define total words to predict\n",
        "next_words = 6\n",
        "\n",
        "# Loop until desired length is reached\n",
        "for _ in range(next_words):\n",
        "\n",
        "\t# Convert the seed text to a token sequence\n",
        "\ttoken_list = tokenizer.texts_to_sequences([seed_text])[0]\n",
        "\n",
        "\t# Pad the sequence\n",
        "\ttoken_list = pad_sequences([token_list], maxlen=max_sequence_len-1, padding='pre')\n",
        "\t\n",
        "\t# Feed to the model and get the probabilities for each index\n",
        "\tprobabilities = model.predict(token_list)\n",
        "\n",
        "\t# Get the index with the highest probability\n",
        "\tpredicted = np.argmax(probabilities, axis=-1)[0]\n",
        "\n",
        "\t# Ignore if index is 0 because that is just the padding.\n",
        "\tif predicted != 0:\n",
        "\t\t\n",
        "\t\t# Look up the word associated with the index. \n",
        "\t\toutput_word = tokenizer.index_word[predicted]\n",
        "\n",
        "\t\t# Combine with the seed text\n",
        "\t\tseed_text += \" \" + output_word\n",
        "\n",
        "# Print the result\t\n",
        "print(seed_text)"
      ],
      "metadata": {
        "id": "Of4ycpvxhkiW"
      },
      "execution_count": null,
      "outputs": []
    }
  ]
}